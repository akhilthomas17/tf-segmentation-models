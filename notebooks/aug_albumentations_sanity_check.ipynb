{
 "cells": [
  {
   "cell_type": "markdown",
   "metadata": {},
   "source": [
    "### Make lists of image and label paths"
   ]
  },
  {
   "cell_type": "code",
   "execution_count": 1,
   "metadata": {},
   "outputs": [],
   "source": [
    "import os\n",
    "dir_imgs = \"../../data/train\"\n",
    "dir_labels = \"../../data/label\"\n",
    "assert(os.path.isdir(dir_imgs))\n",
    "assert(os.path.isdir(dir_labels))"
   ]
  },
  {
   "cell_type": "code",
   "execution_count": 2,
   "metadata": {},
   "outputs": [
    {
     "name": "stdout",
     "output_type": "stream",
     "text": [
      "['../../data/train\\\\10.tif', '../../data/train\\\\12.tif', '../../data/train\\\\14.tif', '../../data/train\\\\15.tif', '../../data/train\\\\16.tif', '../../data/train\\\\17.tif', '../../data/train\\\\18.tif', '../../data/train\\\\2.tif', '../../data/train\\\\20.tif']\n",
      "['../../data/label\\\\10.tif', '../../data/label\\\\12.tif', '../../data/label\\\\14.tif', '../../data/label\\\\15.tif', '../../data/label\\\\16.tif', '../../data/label\\\\17.tif', '../../data/label\\\\18.tif', '../../data/label\\\\2.tif', '../../data/label\\\\20.tif']\n"
     ]
    }
   ],
   "source": [
    "import glob\n",
    "img_paths = sorted(glob.glob(dir_imgs + \"/*.tif\"))\n",
    "label_paths = sorted(glob.glob(dir_labels + \"/*.tif\"))\n",
    "assert(len(img_paths) ==len(label_paths))\n",
    "print(img_paths[1:10])\n",
    "print(label_paths[1:10])\n",
    "\n",
    "train_size = (556,556)"
   ]
  },
  {
   "cell_type": "markdown",
   "metadata": {},
   "source": [
    "### Utility functions"
   ]
  },
  {
   "cell_type": "code",
   "execution_count": 95,
   "metadata": {},
   "outputs": [],
   "source": [
    "## load random image and label from list of image and label paths\n",
    "import random\n",
    "from PIL import Image\n",
    "def load_rand_sample(image_paths, label_paths, shape=train_size, pil=False):\n",
    "    num_samples = len(image_paths)\n",
    "    for _ in range(num_samples):\n",
    "        ii_rand = random.randint(0,num_samples-1)\n",
    "        img_rand = Image.open(image_paths[ii_rand]).resize(shape)\n",
    "        label_rand = Image.open(label_paths[ii_rand]).resize(shape)\n",
    "        if np.array(label_rand).sum()>150:\n",
    "            break\n",
    "    if not pil:\n",
    "        return pil_to_np(img_rand, label_rand)\n",
    "    else:\n",
    "        return img_rand, label_rand\n",
    "\n",
    "def pil_to_np(img_pil, mask_pil):\n",
    "    img  = np.array(img_pil).astype(\"float32\")/255.\n",
    "    mask = np.array(mask_pil)\n",
    "    return img, mask\n",
    "\n",
    "\"\"\" Elastic transform code from https://gist.github.com/erniejunior/601cdf56d2b424757de5\"\"\"\n",
    "from scipy.ndimage.interpolation import map_coordinates\n",
    "from scipy.ndimage.filters import gaussian_filter\n",
    "def elastic_transform_git(image, alpha, sigma, order=0, random_state=None):\n",
    "    \"\"\"Elastic deformation of images as described in [Simard2003]_.\n",
    "    .. [Simard2003] Simard, Steinkraus and Platt, \"Best Practices for\n",
    "       Convolutional Neural Networks applied to Visual Document Analysis\", in\n",
    "       Proc. of the International Conference on Document Analysis and\n",
    "       Recognition, 2003.\n",
    "    \"\"\"\n",
    "    if random_state is None:\n",
    "        random_state = np.random.RandomState(None)\n",
    "\n",
    "    shape = image.shape\n",
    "    dx = gaussian_filter((random_state.rand(*shape) * 2 - 1), sigma, mode=\"constant\", cval=0) * alpha\n",
    "    dy = gaussian_filter((random_state.rand(*shape) * 2 - 1), sigma, mode=\"constant\", cval=0) * alpha\n",
    "\n",
    "    x, y, z = np.meshgrid(np.arange(shape[0]), np.arange(shape[1]), np.arange(shape[2]))\n",
    "    indices = np.reshape(y+dy, (-1, 1)), np.reshape(x+dx, (-1, 1)), np.reshape(z, (-1, 1))\n",
    "\n",
    "    distored_image = map_coordinates(image, indices, order=order, mode='reflect')\n",
    "    return distored_image.reshape(image.shape)\n",
    "\n",
    "\"\"\" Elastic transform code from https://gist.github.com/erniejunior/601cdf56d2b424757de5\"\"\"\n",
    "from scipy.ndimage.interpolation import map_coordinates\n",
    "from scipy.ndimage.filters import gaussian_filter\n",
    "def elastic_transform_git_mod(image, label, alpha, sigma, random_state=None):\n",
    "    \"\"\"Elastic deformation of images as described in [Simard2003]_.\n",
    "    .. [Simard2003] Simard, Steinkraus and Platt, \"Best Practices for\n",
    "       Convolutional Neural Networks applied to Visual Document Analysis\", in\n",
    "       Proc. of the International Conference on Document Analysis and\n",
    "       Recognition, 2003.\n",
    "    \"\"\"\n",
    "    if random_state is None:\n",
    "        random_state = np.random.RandomState(None)\n",
    "\n",
    "    shape = image.shape\n",
    "    dx = gaussian_filter((random_state.rand(*shape) * 2 - 1), sigma, mode=\"constant\", cval=0) * alpha\n",
    "    dy = gaussian_filter((random_state.rand(*shape) * 2 - 1), sigma, mode=\"constant\", cval=0) * alpha\n",
    "\n",
    "    x, y, z = np.meshgrid(np.arange(shape[0]), np.arange(shape[1]), np.arange(shape[2]))\n",
    "    indices = np.reshape(y+dy, (-1, 1)), np.reshape(x+dx, (-1, 1)), np.reshape(z, (-1, 1))\n",
    "    \n",
    "    distored_image = map_coordinates(image, indices, order=1, mode='reflect')\n",
    "    distored_label = map_coordinates(label, indices, order=0, mode='reflect')\n",
    "    return distored_image.reshape(shape), distored_label.reshape(shape)\n",
    "\n",
    "\n",
    "import matplotlib.pyplot as plt\n",
    "from ipywidgets import interact, interactive, fixed, interact_manual\n",
    "import ipywidgets as widgets\n",
    "import numpy as np\n",
    "import albumentations as A"
   ]
  },
  {
   "cell_type": "markdown",
   "metadata": {},
   "source": [
    "### Test brightness parameter"
   ]
  },
  {
   "cell_type": "code",
   "execution_count": 26,
   "metadata": {},
   "outputs": [
    {
     "data": {
      "application/vnd.jupyter.widget-view+json": {
       "model_id": "cefcc0753a8c41f382b9f04792b1a1a9",
       "version_major": 2,
       "version_minor": 0
      },
      "text/plain": [
       "interactive(children=(FloatSlider(value=1.0, description='brightness_factor', max=2.0, step=0.05), Button(desc…"
      ]
     },
     "metadata": {},
     "output_type": "display_data"
    }
   ],
   "source": [
    "img, _ = load_rand_sample(img_paths, label_paths)\n",
    "@interact_manual\n",
    "def adjust_brightness(brightness_factor=(0, 2, 0.05)):\n",
    "    aug = A.RandomBrightness(p=1)\n",
    "    img_adj = aug.apply(img, alpha=brightness_factor)\n",
    "    plt.figure(figsize=(25,25))\n",
    "    plt.subplot(121)\n",
    "    plt.imshow(img, cmap=\"gray\", vmin=0, vmax=1)\n",
    "    plt.subplot(122)\n",
    "    plt.imshow(img_adj, cmap=\"gray\", vmin=0, vmax=1)\n",
    "    print(\"sum img:\", img.sum())\n",
    "    print(\"sum img_adj:\", img_adj.sum())"
   ]
  },
  {
   "cell_type": "markdown",
   "metadata": {},
   "source": [
    "### Test contrast parameter"
   ]
  },
  {
   "cell_type": "code",
   "execution_count": 27,
   "metadata": {},
   "outputs": [
    {
     "data": {
      "application/vnd.jupyter.widget-view+json": {
       "model_id": "f601fc9dd5a24138839f6c51e38cd9bd",
       "version_major": 2,
       "version_minor": 0
      },
      "text/plain": [
       "interactive(children=(FloatSlider(value=1.0, description='contrast_factor', max=2.0, step=0.05), Button(descri…"
      ]
     },
     "metadata": {},
     "output_type": "display_data"
    }
   ],
   "source": [
    "img, _ = load_rand_sample(img_paths, label_paths)\n",
    "@interact_manual\n",
    "def adjust_contrast(contrast_factor=(0,2,0.05)):\n",
    "    aug = A.RandomContrast(p=1)\n",
    "    img_adj = aug.apply(img, alpha=contrast_factor)\n",
    "    plt.figure(figsize=(25,25))\n",
    "    plt.subplot(121)\n",
    "    plt.imshow(img, cmap=\"gray\", vmin=0, vmax=1)\n",
    "    plt.subplot(122)\n",
    "    plt.imshow(img_adj, cmap=\"gray\", vmin=0, vmax=1)"
   ]
  },
  {
   "cell_type": "markdown",
   "metadata": {},
   "source": [
    "### Test affine transformation parameters"
   ]
  },
  {
   "cell_type": "code",
   "execution_count": 34,
   "metadata": {},
   "outputs": [
    {
     "data": {
      "application/vnd.jupyter.widget-view+json": {
       "model_id": "5c544625947647f283294fedc4a4349c",
       "version_major": 2,
       "version_minor": 0
      },
      "text/plain": [
       "interactive(children=(IntSlider(value=0, description='angle', max=30, min=-30), FloatSlider(value=0.0, descrip…"
      ]
     },
     "metadata": {},
     "output_type": "display_data"
    }
   ],
   "source": [
    "img, label = load_rand_sample(img_paths, label_paths)\n",
    "@interact_manual\n",
    "def affine_transform(angle=(-30,30,1), translate_x=(-0.2,0.2,0.05), translate_y=(-0.2,0.2,0.05), scale=(0.9,1.1,0.05)):\n",
    "    aug = A.ShiftScaleRotate(border_mode=0)\n",
    "    img_trf = aug.apply(img, angle=angle, scale=scale, dx=translate_x, dy=translate_y)\n",
    "    label_trf = aug.apply_to_mask(label, angle=angle, scale=scale, dx=translate_x, dy=translate_y)\n",
    "    plt.figure(figsize=(25,25))\n",
    "    plt.subplot(121)\n",
    "    plt.imshow(img, cmap=\"gray\", vmin=0, vmax=1)\n",
    "    plt.imshow(label, alpha=0.3)\n",
    "    plt.subplot(122)\n",
    "    plt.imshow(img_trf, cmap=\"gray\", vmin=0, vmax=1)\n",
    "    plt.imshow(label_trf, alpha=0.3)"
   ]
  },
  {
   "cell_type": "code",
   "execution_count": 41,
   "metadata": {},
   "outputs": [],
   "source": [
    "angle=30\n",
    "translate = (50, 50)\n",
    "translate_x = 0.1\n",
    "translate_y = 0.1\n",
    "scale = 1.5\n",
    "shear = 6"
   ]
  },
  {
   "cell_type": "code",
   "execution_count": 14,
   "metadata": {},
   "outputs": [
    {
     "name": "stdout",
     "output_type": "stream",
     "text": [
      "613 µs ± 294 ns per loop (mean ± std. dev. of 7 runs, 1000 loops each)\n"
     ]
    }
   ],
   "source": [
    "%%timeit\n",
    "img_trf = TF.affine(img, angle, translate, scale, shear, resample=0, fillcolor=None)\n",
    "label_trf = TF.affine(label, angle, translate, scale, shear, resample=0, fillcolor=None)"
   ]
  },
  {
   "cell_type": "code",
   "execution_count": 46,
   "metadata": {},
   "outputs": [
    {
     "name": "stdout",
     "output_type": "stream",
     "text": [
      "1.57 ms ± 41.2 µs per loop (mean ± std. dev. of 7 runs, 1000 loops each)\n"
     ]
    }
   ],
   "source": [
    "%%timeit\n",
    "aug = A.Compose([A.ShiftScaleRotate(border_mode=0)])\n",
    "augmented = aug(image=img, mask=label)"
   ]
  },
  {
   "cell_type": "code",
   "execution_count": 45,
   "metadata": {},
   "outputs": [
    {
     "name": "stdout",
     "output_type": "stream",
     "text": [
      "2.94 ms ± 58.7 µs per loop (mean ± std. dev. of 7 runs, 100 loops each)\n"
     ]
    }
   ],
   "source": [
    "%%timeit\n",
    "aug = A.ShiftScaleRotate(border_mode=0)\n",
    "img_trf = aug.apply(img, angle=angle, scale=scale, dx=translate_x, dy=translate_y)\n",
    "label_trf = aug.apply_to_mask(label, angle=angle, scale=scale, dx=translate_x, dy=translate_y)"
   ]
  },
  {
   "cell_type": "markdown",
   "metadata": {},
   "source": [
    "### Test elastic transform parameters"
   ]
  },
  {
   "cell_type": "code",
   "execution_count": 65,
   "metadata": {},
   "outputs": [
    {
     "data": {
      "application/vnd.jupyter.widget-view+json": {
       "model_id": "",
       "version_major": 2,
       "version_minor": 0
      },
      "text/plain": [
       "interactive(children=(IntSlider(value=700, description='alpha', max=1400), IntSlider(value=700, description='a…"
      ]
     },
     "metadata": {},
     "output_type": "display_data"
    }
   ],
   "source": [
    "img, label = load_rand_sample(img_paths, label_paths)\n",
    "@interact_manual\n",
    "def elastic_transform(alpha=(0,1400,1), alpha_affine=(0,1400,1), sigma=(5,6.5,0.01)):\n",
    "    aug = A.Compose(\n",
    "        [A.ElasticTransform(p=1, border_mode=0, alpha=alpha, alpha_affine=alpha_affine, sigma=sigma, approximate=True)])\n",
    "    augmented = aug(image=img, mask=label)\n",
    "    label_trf = augmented[\"mask\"]\n",
    "    img_trf = augmented[\"image\"]\n",
    "    plt.figure(figsize=(30,15))\n",
    "    plt.subplot(122)\n",
    "    plt.imshow(img_trf, cmap=\"gray\")\n",
    "    plt.imshow(label_trf, alpha=0.3)\n",
    "    plt.subplot(121)\n",
    "    plt.imshow(img, cmap=\"gray\")\n",
    "    plt.imshow(label, alpha=0.3)"
   ]
  },
  {
   "cell_type": "code",
   "execution_count": 82,
   "metadata": {},
   "outputs": [],
   "source": [
    "alpha_affine = 0\n",
    "alpha = 50\n",
    "sigma = 6"
   ]
  },
  {
   "cell_type": "code",
   "execution_count": 83,
   "metadata": {},
   "outputs": [
    {
     "name": "stdout",
     "output_type": "stream",
     "text": [
      "140 ms ± 753 µs per loop (mean ± std. dev. of 7 runs, 10 loops each)\n"
     ]
    }
   ],
   "source": [
    "%%timeit\n",
    "aug = A.Compose(\n",
    "        [A.ElasticTransform(p=1, border_mode=0, alpha=alpha, alpha_affine=alpha_affine, sigma=sigma)])\n",
    "augmented = aug(image=img, mask=label)"
   ]
  },
  {
   "cell_type": "code",
   "execution_count": 84,
   "metadata": {},
   "outputs": [
    {
     "name": "stdout",
     "output_type": "stream",
     "text": [
      "57.8 ms ± 599 µs per loop (mean ± std. dev. of 7 runs, 10 loops each)\n"
     ]
    }
   ],
   "source": [
    "%%timeit\n",
    "aug = A.Compose(\n",
    "        [A.ElasticTransform(p=1, border_mode=0, alpha=alpha, alpha_affine=alpha_affine, sigma=sigma, approximate=True)])\n",
    "augmented = aug(image=img, mask=label)"
   ]
  },
  {
   "cell_type": "code",
   "execution_count": 118,
   "metadata": {
    "scrolled": true
   },
   "outputs": [
    {
     "name": "stdout",
     "output_type": "stream",
     "text": [
      "76.2 ms ± 67.1 µs per loop (mean ± std. dev. of 7 runs, 10 loops each)\n"
     ]
    }
   ],
   "source": [
    "%%timeit\n",
    "img_2, label_2 = elastic_transform_git_mod(np.array(img)[..., None], np.array(label)[..., None], alpha, sigma)"
   ]
  },
  {
   "cell_type": "markdown",
   "metadata": {},
   "source": [
    "### Test optical distortion parameters"
   ]
  },
  {
   "cell_type": "code",
   "execution_count": 93,
   "metadata": {},
   "outputs": [
    {
     "data": {
      "application/vnd.jupyter.widget-view+json": {
       "model_id": "",
       "version_major": 2,
       "version_minor": 0
      },
      "text/plain": [
       "interactive(children=(FloatSlider(value=0.0, description='distort_limit', max=1.0, step=0.05), FloatSlider(val…"
      ]
     },
     "metadata": {},
     "output_type": "display_data"
    }
   ],
   "source": [
    "img, label = load_rand_sample(img_paths, label_paths)\n",
    "@interact_manual\n",
    "def optical_distortion(distort_limit=(0,1,0.05), shift_limit=(0,10,0.05)):\n",
    "    aug = A.OpticalDistortion(p=1, border_mode=0)\n",
    "    img_trf = aug.apply(img, k=distort_limit, dx=shift_limit, dy=shift_limit)\n",
    "    label_trf = aug.apply_to_mask(label, k=distort_limit, dx=shift_limit, dy=shift_limit)\n",
    "    plt.figure(figsize=(30,15))\n",
    "    plt.subplot(122)\n",
    "    plt.imshow(img_trf, cmap=\"gray\")\n",
    "    plt.imshow(label_trf, alpha=0.3)\n",
    "    plt.subplot(121)\n",
    "    plt.imshow(img, cmap=\"gray\")\n",
    "    plt.imshow(label, alpha=0.3)"
   ]
  },
  {
   "cell_type": "markdown",
   "metadata": {},
   "source": [
    "### Test blurring"
   ]
  },
  {
   "cell_type": "code",
   "execution_count": 102,
   "metadata": {},
   "outputs": [
    {
     "data": {
      "application/vnd.jupyter.widget-view+json": {
       "model_id": "",
       "version_major": 2,
       "version_minor": 0
      },
      "text/plain": [
       "interactive(children=(IntSlider(value=11, description='blur_limit', max=20, min=3), Button(description='Run In…"
      ]
     },
     "metadata": {},
     "output_type": "display_data"
    }
   ],
   "source": [
    "img, label = load_rand_sample(img_paths, label_paths)\n",
    "@interact_manual\n",
    "def blur(blur_limit=(3,20,1)):\n",
    "    aug = A.Blur(p=1)\n",
    "    img_trf = aug.apply(img, ksize=blur_limit)\n",
    "    label_trf = label\n",
    "    plt.figure(figsize=(30,15))\n",
    "    plt.subplot(122)\n",
    "    plt.imshow(img_trf, cmap=\"gray\")\n",
    "    plt.imshow(label_trf, alpha=0.3)\n",
    "    plt.subplot(121)\n",
    "    plt.imshow(img, cmap=\"gray\")\n",
    "    plt.imshow(label, alpha=0.3)"
   ]
  },
  {
   "cell_type": "markdown",
   "metadata": {},
   "source": [
    "### Test gaussian blurring"
   ]
  },
  {
   "cell_type": "code",
   "execution_count": 104,
   "metadata": {},
   "outputs": [
    {
     "data": {
      "application/vnd.jupyter.widget-view+json": {
       "model_id": "",
       "version_major": 2,
       "version_minor": 0
      },
      "text/plain": [
       "interactive(children=(IntSlider(value=11, description='blur_limit', max=20, min=3), Button(description='Run In…"
      ]
     },
     "metadata": {},
     "output_type": "display_data"
    }
   ],
   "source": [
    "img, label = load_rand_sample(img_paths, label_paths)\n",
    "@interact_manual\n",
    "def gauss_blur(blur_limit=(3,20,1)):\n",
    "    aug = A.GaussianBlur(p=1)\n",
    "    img_trf = aug.apply(img, ksize=blur_limit)\n",
    "    label_trf = label\n",
    "    plt.figure(figsize=(30,15))\n",
    "    plt.subplot(122)\n",
    "    plt.imshow(img_trf, cmap=\"gray\")\n",
    "    plt.imshow(label_trf, alpha=0.3)\n",
    "    plt.subplot(121)\n",
    "    plt.imshow(img, cmap=\"gray\")\n",
    "    plt.imshow(label, alpha=0.3)"
   ]
  },
  {
   "cell_type": "markdown",
   "metadata": {},
   "source": [
    "### Test motion blurring"
   ]
  },
  {
   "cell_type": "code",
   "execution_count": 110,
   "metadata": {},
   "outputs": [
    {
     "data": {
      "application/vnd.jupyter.widget-view+json": {
       "model_id": "6d93a74e77e648e6bf8dd800bccf8b5e",
       "version_major": 2,
       "version_minor": 0
      },
      "text/plain": [
       "interactive(children=(FloatSlider(value=0.0, description='var_limit', max=1.0, step=0.01), Button(description=…"
      ]
     },
     "metadata": {},
     "output_type": "display_data"
    }
   ],
   "source": [
    "img, label = load_rand_sample(img_paths, label_paths)\n",
    "@interact_manual\n",
    "def gauss_noise(var_limit=(0,1,0.01)):\n",
    "    aug = A.Compose([A.GaussNoise(p=1, var_limit=var_limit)])\n",
    "    img_trf = aug(image=img)[\"image\"]\n",
    "    label_trf = label\n",
    "    plt.figure(figsize=(30,15))\n",
    "    plt.subplot(122)\n",
    "    plt.imshow(img_trf, cmap=\"gray\")\n",
    "    plt.imshow(label_trf, alpha=0.3)\n",
    "    plt.subplot(121)\n",
    "    plt.imshow(img, cmap=\"gray\")\n",
    "    plt.imshow(label, alpha=0.3)"
   ]
  }
 ],
 "metadata": {
  "kernelspec": {
   "display_name": "Python [conda env:tf1.5]",
   "language": "python",
   "name": "conda-env-tf1.5-py"
  },
  "language_info": {
   "codemirror_mode": {
    "name": "ipython",
    "version": 3
   },
   "file_extension": ".py",
   "mimetype": "text/x-python",
   "name": "python",
   "nbconvert_exporter": "python",
   "pygments_lexer": "ipython3",
   "version": "3.7.3"
  }
 },
 "nbformat": 4,
 "nbformat_minor": 4
}
