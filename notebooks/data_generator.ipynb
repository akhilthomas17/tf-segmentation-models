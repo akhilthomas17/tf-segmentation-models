{
 "cells": [
  {
   "cell_type": "markdown",
   "metadata": {},
   "source": [
    "## Make list of train & val - image & label paths\n"
   ]
  },
  {
   "cell_type": "code",
   "execution_count": 1,
   "metadata": {},
   "outputs": [],
   "source": [
    "import os\n",
    "import glob"
   ]
  },
  {
   "cell_type": "code",
   "execution_count": 2,
   "metadata": {},
   "outputs": [],
   "source": [
    "#base_dir = \"/mnt/sda/deep_learning/CSE527_FinalProject-master/images\"\n",
    "base_dir =  \"../../data\"\n",
    "assert(os.path.isdir(base_dir))"
   ]
  },
  {
   "cell_type": "code",
   "execution_count": 3,
   "metadata": {},
   "outputs": [],
   "source": [
    "folder_maps ={\n",
    "    \"train\": {\n",
    "        \"images\": \"train\",\n",
    "        \"labels\": \"label\",\n",
    "    },\n",
    "    \"val\": {\n",
    "        \"images\": \"train\",\n",
    "        \"labels\": \"label\"\n",
    "    }\n",
    "}"
   ]
  },
  {
   "cell_type": "code",
   "execution_count": 4,
   "metadata": {},
   "outputs": [],
   "source": [
    "folder_dicts = {}\n",
    "for mode,dct in folder_maps.items():\n",
    "    tmp = {}\n",
    "    for key, val in dct.items():\n",
    "        tmp[key] = os.path.join(base_dir, val)\n",
    "        try:\n",
    "            assert(os.path.isdir(tmp[key]))\n",
    "        except:\n",
    "            print(\"check the path given for %s in folder_dict\"%key)\n",
    "    folder_dicts[mode] = tmp"
   ]
  },
  {
   "cell_type": "code",
   "execution_count": 5,
   "metadata": {},
   "outputs": [
    {
     "name": "stdout",
     "output_type": "stream",
     "text": [
      "Number of examples in train dataset:  36\n",
      "Number of examples in val dataset:  36\n"
     ]
    }
   ],
   "source": [
    "paths_dicts = {}\n",
    "for mode,dct in folder_dicts.items():\n",
    "    tmp = {}\n",
    "    for key,val in dct.items():\n",
    "        tmp[key] = sorted(glob.glob(val + \"/*.tif\"))\n",
    "    paths_dicts[mode] = tmp\n",
    "\n",
    "for mode,dct in paths_dicts.items():\n",
    "    assert(len(dct[\"images\"]) == len(dct[\"labels\"]))\n",
    "    print(\"Number of examples in %s dataset: \"%mode, len(dct[\"images\"]))"
   ]
  },
  {
   "cell_type": "code",
   "execution_count": 6,
   "metadata": {},
   "outputs": [],
   "source": [
    "class PathsDictMaker:\n",
    "    def __init__(self, folder_maps, base_folder=\"\"):\n",
    "        if base_folder:\n",
    "            assert(os.path.isdir(base_folder))\n",
    "            self._make_folder_dicts(folder_maps, base_folder) \n",
    "    \n",
    "    def _make_folder_dicts(self, folder_maps, base_folder):\n",
    "        self._folder_dicts = {}\n",
    "        for mode,dct in folder_maps.items():\n",
    "            tmp = {}\n",
    "            for key, val in dct.items():\n",
    "                tmp[key] = os.path.join(base_folder, val)\n",
    "                try:\n",
    "                    assert(os.path.isdir(tmp[key]))\n",
    "                except:\n",
    "                    print(\"check the path given for %s in folder_maps\"%key)\n",
    "            self._folder_dicts[mode] = tmp\n",
    "    \n",
    "    def make_paths_dicts(self, file_extension=\".tif\"):\n",
    "        paths_dicts = {}\n",
    "        for mode,dct in self._folder_dicts.items():\n",
    "            tmp = {}\n",
    "            for key,val in dct.items():\n",
    "                tmp[key] = sorted(glob.glob(val + \"/*\" + file_extension))\n",
    "            paths_dicts[mode] = tmp\n",
    "        for mode,dct in paths_dicts.items():\n",
    "            assert(len(dct[\"images\"]) == len(dct[\"labels\"]))\n",
    "            print(\"Number of examples in %s dataset: \"%mode, len(dct[\"images\"]))\n",
    "        return paths_dicts"
   ]
  },
  {
   "cell_type": "code",
   "execution_count": 7,
   "metadata": {},
   "outputs": [
    {
     "name": "stdout",
     "output_type": "stream",
     "text": [
      "Number of examples in train dataset:  36\n",
      "Number of examples in val dataset:  36\n"
     ]
    }
   ],
   "source": [
    "paths_dict = PathsDictMaker(folder_maps, base_folder=base_dir).make_paths_dicts()"
   ]
  },
  {
   "cell_type": "markdown",
   "metadata": {},
   "source": [
    "## Make a tf.data.Dataset and preprocess/augment the images"
   ]
  },
  {
   "cell_type": "code",
   "execution_count": 11,
   "metadata": {},
   "outputs": [
    {
     "ename": "ImportError",
     "evalue": "DLL load failed: Das angegebene Modul wurde nicht gefunden.",
     "output_type": "error",
     "traceback": [
      "\u001b[1;31m---------------------------------------------------------------------------\u001b[0m",
      "\u001b[1;31mImportError\u001b[0m                               Traceback (most recent call last)",
      "\u001b[1;32m<ipython-input-11-3b96c63137f6>\u001b[0m in \u001b[0;36m<module>\u001b[1;34m\u001b[0m\n\u001b[0;32m      2\u001b[0m \u001b[0mtf\u001b[0m\u001b[1;33m.\u001b[0m\u001b[0menable_eager_execution\u001b[0m\u001b[1;33m(\u001b[0m\u001b[1;33m)\u001b[0m\u001b[1;33m\u001b[0m\u001b[1;33m\u001b[0m\u001b[0m\n\u001b[0;32m      3\u001b[0m \u001b[0mAUTOTUNE\u001b[0m \u001b[1;33m=\u001b[0m \u001b[0mtf\u001b[0m\u001b[1;33m.\u001b[0m\u001b[0mdata\u001b[0m\u001b[1;33m.\u001b[0m\u001b[0mexperimental\u001b[0m\u001b[1;33m.\u001b[0m\u001b[0mAUTOTUNE\u001b[0m\u001b[1;33m\u001b[0m\u001b[1;33m\u001b[0m\u001b[0m\n\u001b[1;32m----> 4\u001b[1;33m \u001b[1;32mfrom\u001b[0m \u001b[0mPIL\u001b[0m \u001b[1;32mimport\u001b[0m \u001b[0mImage\u001b[0m\u001b[1;33m\u001b[0m\u001b[1;33m\u001b[0m\u001b[0m\n\u001b[0m\u001b[0;32m      5\u001b[0m \u001b[1;31m#%matplotlib widget ## doesn't work with multiple virtual environments\u001b[0m\u001b[1;33m\u001b[0m\u001b[1;33m\u001b[0m\u001b[1;33m\u001b[0m\u001b[0m\n\u001b[0;32m      6\u001b[0m \u001b[1;32mimport\u001b[0m \u001b[0mnumpy\u001b[0m \u001b[1;32mas\u001b[0m \u001b[0mnp\u001b[0m\u001b[1;33m\u001b[0m\u001b[1;33m\u001b[0m\u001b[0m\n",
      "\u001b[1;32mC:\\Anaconda3\\envs\\tf1.5\\lib\\site-packages\\PIL\\Image.py\u001b[0m in \u001b[0;36m<module>\u001b[1;34m\u001b[0m\n\u001b[0;32m     88\u001b[0m     \u001b[1;31m# Also note that Image.core is not a publicly documented interface,\u001b[0m\u001b[1;33m\u001b[0m\u001b[1;33m\u001b[0m\u001b[1;33m\u001b[0m\u001b[0m\n\u001b[0;32m     89\u001b[0m     \u001b[1;31m# and should be considered private and subject to change.\u001b[0m\u001b[1;33m\u001b[0m\u001b[1;33m\u001b[0m\u001b[1;33m\u001b[0m\u001b[0m\n\u001b[1;32m---> 90\u001b[1;33m     \u001b[1;32mfrom\u001b[0m \u001b[1;33m.\u001b[0m \u001b[1;32mimport\u001b[0m \u001b[0m_imaging\u001b[0m \u001b[1;32mas\u001b[0m \u001b[0mcore\u001b[0m\u001b[1;33m\u001b[0m\u001b[1;33m\u001b[0m\u001b[0m\n\u001b[0m\u001b[0;32m     91\u001b[0m \u001b[1;33m\u001b[0m\u001b[0m\n\u001b[0;32m     92\u001b[0m     \u001b[1;32mif\u001b[0m \u001b[0m__version__\u001b[0m \u001b[1;33m!=\u001b[0m \u001b[0mgetattr\u001b[0m\u001b[1;33m(\u001b[0m\u001b[0mcore\u001b[0m\u001b[1;33m,\u001b[0m \u001b[1;34m\"PILLOW_VERSION\"\u001b[0m\u001b[1;33m,\u001b[0m \u001b[1;32mNone\u001b[0m\u001b[1;33m)\u001b[0m\u001b[1;33m:\u001b[0m\u001b[1;33m\u001b[0m\u001b[1;33m\u001b[0m\u001b[0m\n",
      "\u001b[1;31mImportError\u001b[0m: DLL load failed: Das angegebene Modul wurde nicht gefunden."
     ]
    }
   ],
   "source": [
    "import tensorflow as tf\n",
    "tf.enable_eager_execution()\n",
    "AUTOTUNE = tf.data.experimental.AUTOTUNE\n",
    "from PIL import Image\n",
    "#%matplotlib widget ## doesn't work with multiple virtual environments\n",
    "import numpy as np\n",
    "import matplotlib.pyplot as plt\n",
    "from ipywidgets import interact, interactive, fixed, interact_manual\n",
    "import ipywidgets as widgets\n",
    "#import torchvision.transforms.functional as TF"
   ]
  },
  {
   "cell_type": "markdown",
   "metadata": {},
   "source": [
    "### convert dicts to tf.data.Dataset and check if the images and masks taken from the dataset are matching"
   ]
  },
  {
   "cell_type": "code",
   "execution_count": null,
   "metadata": {},
   "outputs": [],
   "source": [
    "datasets = {}\n",
    "for mode,dct in paths_dicts.items():\n",
    "    datasets[mode] = tf.data.Dataset.from_tensor_slices(dct)\n",
    "print(datasets)"
   ]
  },
  {
   "cell_type": "code",
   "execution_count": null,
   "metadata": {},
   "outputs": [],
   "source": [
    "for next_element in datasets[\"train\"].shuffle(buffer_size=4000).take(1):\n",
    "    print(next_element[\"images\"].numpy(), next_element[\"labels\"])\n",
    "    print(type(next_element[\"images\"].numpy()))"
   ]
  },
  {
   "cell_type": "markdown",
   "metadata": {},
   "source": [
    "### check if the loading and reshape works"
   ]
  },
  {
   "cell_type": "code",
   "execution_count": null,
   "metadata": {},
   "outputs": [],
   "source": [
    "def load_img(datapoint, size, pil=False):\n",
    "    img_pil = Image.open(datapoint[\"images\"].numpy()).resize(size)\n",
    "    mask_pil = Image.open(datapoint[\"labels\"].numpy()).resize(size)\n",
    "    if pil:\n",
    "        return img_pil, mask_pil\n",
    "    else:\n",
    "        return pil_to_np(img_pil, mask_pil)\n",
    "\n",
    "def pil_to_np(img_pil, mask_pil):\n",
    "    img  = np.array(img_pil).astype(\"float32\")/255.\n",
    "    mask = np.array(mask_pil)\n",
    "    return np.expand_dims(img, axis=-1), mask\n",
    "\n",
    "def load_random_image(ds, size, pil=False):\n",
    "    for next_element in ds.shuffle(buffer_size=4000).take(1):\n",
    "        img, mask = load_img(next_element, size, pil)\n",
    "    return img, mask"
   ]
  },
  {
   "cell_type": "code",
   "execution_count": null,
   "metadata": {},
   "outputs": [],
   "source": [
    "img, mask = load_random_image(datasets[\"train\"], (556,556))\n",
    "plt.figure(figsize=(7,7))\n",
    "plt.imshow(np.squeeze(img, axis=-1), cmap=\"gray\")\n",
    "plt.imshow(mask, alpha=0.3)"
   ]
  },
  {
   "cell_type": "markdown",
   "metadata": {},
   "source": [
    "### check if data augmentation works"
   ]
  },
  {
   "cell_type": "markdown",
   "metadata": {},
   "source": [
    "#### brightness"
   ]
  },
  {
   "cell_type": "code",
   "execution_count": null,
   "metadata": {},
   "outputs": [],
   "source": [
    "img, mask = load_random_image(datasets[\"train\"], (556,556))\n",
    "@interact\n",
    "def adjust_brightness(delta=(-0.15,0.16,0.05)):\n",
    "    img_adj = tf.image.adjust_brightness(img, delta=delta)\n",
    "    print(img_adj.shape)\n",
    "    plt.figure(figsize=(20,20))\n",
    "    plt.subplot(121)\n",
    "    plt.imshow(np.squeeze(img, axis=-1), cmap=\"gray\", vmin=0, vmax=1)\n",
    "    plt.subplot(122)\n",
    "    plt.imshow(np.squeeze(img_adj, axis=-1), cmap=\"gray\", vmin=0, vmax=1)\n",
    "max_delta = 0.15"
   ]
  },
  {
   "cell_type": "markdown",
   "metadata": {},
   "source": [
    "#### contrast"
   ]
  },
  {
   "cell_type": "code",
   "execution_count": null,
   "metadata": {},
   "outputs": [],
   "source": [
    "img, mask = load_random_image(datasets[\"train\"], (556,556))\n",
    "@interact\n",
    "def adjust_contrast(contrast_factor=(0.5,1.5,0.05)):\n",
    "    img_adj = tf.image.adjust_contrast(img, contrast_factor=contrast_factor)\n",
    "    plt.figure(figsize=(20,20))\n",
    "    plt.subplot(121)\n",
    "    plt.imshow(np.squeeze(img, axis=-1), cmap=\"gray\", vmin=0, vmax=1)\n",
    "    plt.subplot(122)\n",
    "    plt.imshow(np.squeeze(img_adj, axis=-1), cmap=\"gray\", vmin=0, vmax=1)\n",
    "lower = 0.15\n",
    "upper = 1.5"
   ]
  },
  {
   "cell_type": "markdown",
   "metadata": {},
   "source": [
    "#### affine transform - with keras"
   ]
  },
  {
   "cell_type": "code",
   "execution_count": null,
   "metadata": {},
   "outputs": [],
   "source": [
    "img, mask = load_random_image(datasets[\"train\"], (556,556))\n",
    "@interact\n",
    "def transform_affine(theta=(-30,30),tx=(-50,50),shear=(-6,6),zx=(0.8,1.21),fill_mode=['constant', 'reflect', 'nearest'],order=(-1,1)):\n",
    "    img_adj = tf.keras.preprocessing.image.apply_affine_transform(img, theta=theta,tx=tx,ty=tx,shear=shear,zx=zx,\n",
    "                                                                  zy=zx,fill_mode=fill_mode,order=order)\n",
    "    mask_adj = tf.keras.preprocessing.image.apply_affine_transform(np.expand_dims(mask, axis=-1), theta=theta,tx=tx,ty=tx,shear=shear,zx=zx,\n",
    "                                                                  zy=zx,fill_mode=fill_mode,order=0)\n",
    "    plt.figure(figsize=(20,20))\n",
    "    plt.subplot(121)\n",
    "    plt.imshow(np.squeeze(img, axis=-1), cmap=\"gray\", vmin=0, vmax=1)\n",
    "    plt.imshow(mask, alpha=0.3)\n",
    "    plt.subplot(122)\n",
    "    plt.imshow(np.squeeze(img_adj, axis=-1), cmap=\"gray\", vmin=0, vmax=1)\n",
    "    plt.imshow(np.squeeze(mask_adj, axis=-1), alpha=0.3)"
   ]
  },
  {
   "cell_type": "code",
   "execution_count": null,
   "metadata": {},
   "outputs": [],
   "source": [
    "theta=30\n",
    "tx=50\n",
    "shear=6\n",
    "zx=0.8\n",
    "fill_mode='constant'\n",
    "order=0"
   ]
  },
  {
   "cell_type": "code",
   "execution_count": null,
   "metadata": {},
   "outputs": [],
   "source": [
    "%%timeit\n",
    "img_adj = tf.keras.preprocessing.image.apply_affine_transform(img, theta=theta,tx=tx,ty=tx,shear=shear,zx=zx,\n",
    "                                                                  zy=zx,fill_mode=fill_mode,order=order)\n",
    "mask_adj = tf.keras.preprocessing.image.apply_affine_transform(np.expand_dims(mask, axis=-1), theta=theta,tx=tx,ty=tx,shear=shear,zx=zx,\n",
    "                                                                  zy=zx,fill_mode=fill_mode,order=order)"
   ]
  },
  {
   "cell_type": "code",
   "execution_count": null,
   "metadata": {},
   "outputs": [],
   "source": [
    "%%timeit\n",
    "img_plus_mask = np.concatenate((img, np.expand_dims(mask, axis=-1)), axis=2)\n",
    "img_adj = tf.keras.preprocessing.image.apply_affine_transform(img_plus_mask, theta=theta,tx=tx,ty=tx,shear=shear,zx=zx,\n",
    "                                                                  zy=zx,fill_mode=fill_mode,order=order)"
   ]
  },
  {
   "cell_type": "markdown",
   "metadata": {},
   "source": [
    "**NOTE**: The keras' version of affine_transform is very slow compared to the one from torchvision!"
   ]
  },
  {
   "cell_type": "markdown",
   "metadata": {},
   "source": [
    "#### affine transform - with torchvision"
   ]
  },
  {
   "cell_type": "code",
   "execution_count": null,
   "metadata": {},
   "outputs": [],
   "source": [
    "img, mask = load_random_image(datasets[\"train\"], (556,556), pil=True)\n",
    "@interact\n",
    "def affine_transform(angle=(-30,30,1), translate=(-100,100,1), scale=(0.9,1.1,0.05), shear=(-6,6,0.05)):\n",
    "    img_trf = TF.affine(img, angle, (translate, translate), scale, shear, resample=0, fillcolor=None)\n",
    "    mask_trf = TF.affine(mask, angle, (translate, translate), scale, shear, resample=0, fillcolor=None)\n",
    "    plt.figure(figsize=(20,20))\n",
    "    plt.subplot(121)\n",
    "    plt.imshow(img, cmap=\"gray\", vmin=0, vmax=255)\n",
    "    plt.imshow(mask, alpha=0.3)\n",
    "    plt.subplot(122)\n",
    "    plt.imshow(img_trf, cmap=\"gray\", vmin=0, vmax=255)\n",
    "    plt.imshow(mask_trf, alpha=0.3)"
   ]
  },
  {
   "cell_type": "code",
   "execution_count": null,
   "metadata": {},
   "outputs": [],
   "source": [
    "angle=30\n",
    "translate = 50\n",
    "scale = 1.5\n",
    "shear = 6"
   ]
  },
  {
   "cell_type": "code",
   "execution_count": null,
   "metadata": {},
   "outputs": [],
   "source": [
    "%%timeit\n",
    "img_trf = TF.affine(img, angle, (translate, translate), scale, shear, resample=0, fillcolor=None)\n",
    "mask_trf = TF.affine(mask, angle, (translate, translate), scale, shear, resample=0, fillcolor=None)"
   ]
  },
  {
   "cell_type": "markdown",
   "metadata": {},
   "source": [
    "#### elastic transforms"
   ]
  },
  {
   "cell_type": "markdown",
   "metadata": {},
   "source": [
    "Elastic transform code from https://gist.github.com/erniejunior/601cdf56d2b424757de5"
   ]
  },
  {
   "cell_type": "code",
   "execution_count": null,
   "metadata": {},
   "outputs": [],
   "source": [
    "from scipy.ndimage.interpolation import map_coordinates\n",
    "from scipy.ndimage.filters import gaussian_filter\n",
    "def elastic_transform_git_mod(image, label, alpha, sigma, random_state=None):\n",
    "    \"\"\"Elastic deformation of images as described in [Simard2003]_.\n",
    "    .. [Simard2003] Simard, Steinkraus and Platt, \"Best Practices for\n",
    "       Convolutional Neural Networks applied to Visual Document Analysis\", in\n",
    "       Proc. of the International Conference on Document Analysis and\n",
    "       Recognition, 2003.\n",
    "    \"\"\"\n",
    "    if random_state is None:\n",
    "        random_state = np.random.RandomState(None)\n",
    "\n",
    "    shape = image.shape\n",
    "    dx = gaussian_filter((random_state.rand(*shape) * 2 - 1), sigma, mode=\"constant\", cval=0) * alpha\n",
    "    dy = gaussian_filter((random_state.rand(*shape) * 2 - 1), sigma, mode=\"constant\", cval=0) * alpha\n",
    "\n",
    "    x, y, z = np.meshgrid(np.arange(shape[0]), np.arange(shape[1]), np.arange(shape[2]))\n",
    "    indices = np.reshape(y+dy, (-1, 1)), np.reshape(x+dx, (-1, 1)), np.reshape(z, (-1, 1))\n",
    "    \n",
    "    distored_image = map_coordinates(image, indices, order=1, mode='reflect')\n",
    "    distored_label = map_coordinates(label, indices, order=0, mode='reflect')\n",
    "    return distored_image.reshape(shape), distored_label.reshape(shape)"
   ]
  },
  {
   "cell_type": "code",
   "execution_count": null,
   "metadata": {},
   "outputs": [],
   "source": [
    "img, mask = load_random_image(datasets[\"train\"], (556,556))\n",
    "@interact\n",
    "def elastic_transform(alpha=(0,1400,1), sigma=(5.75,7,0.01)):\n",
    "    img_trf, mask_trf = elastic_transform_git_mod(img, mask[..., None], alpha, sigma)\n",
    "    plt.figure(figsize=(20,20))\n",
    "    plt.subplot(121)\n",
    "    plt.imshow(img[...,0], cmap=\"gray\")\n",
    "    plt.imshow(mask, alpha=0.3)\n",
    "    plt.subplot(122)\n",
    "    plt.imshow(img_trf[...,0], cmap=\"gray\")\n",
    "    plt.imshow(mask_trf[...,0], alpha=0.3)"
   ]
  },
  {
   "cell_type": "markdown",
   "metadata": {},
   "source": [
    "### data input pipeline class"
   ]
  },
  {
   "cell_type": "code",
   "execution_count": null,
   "metadata": {},
   "outputs": [],
   "source": [
    "    def _extract_image(self, datapoint, size):\n",
    "        img_pil = tf.py_function(self._read_images_pil, [datapoint[\"images\"], size], tf.uint8)\n",
    "        mask_pil = tf.py_function(self._read_images_pil, [datapoint[\"labels\"], size], tf.uint8)\n",
    "        return img_pil, mask_pil\n",
    "    \n",
    "    def _read_images_pil(self, filename, size):\n",
    "        image = Image.open(filename.decode(\"utf-8\")).resize(size)\n",
    "        image = np.asarray(image)\n",
    "        return image\n"
   ]
  },
  {
   "cell_type": "code",
   "execution_count": null,
   "metadata": {},
   "outputs": [],
   "source": [
    "class ImageInputPipeline:\n",
    "    def __init__(self, folder_maps, file_extension=\".tif\", base_folder=\"\"):\n",
    "        paths_dict_maker = PathsDictMaker(folder_maps, base_folder)\n",
    "        paths_dicts = paths_dict_maker.make_paths_dicts(file_extension)\n",
    "        self._train_paths_ds = tf.data.Dataset.from_tensor_slices(paths_dicts[\"train\"])\n",
    "        self._val_paths_ds = tf.data.Dataset.from_tensor_slices(paths_dicts[\"val\"])\n",
    "        \n",
    "    def _extract_image(self, image, label):\n",
    "        augment=False\n",
    "        size=(556,556)\n",
    "        img_pil = Image.open(image.decode('utf-8')).resize(size)\n",
    "        mask_pil = Image.open(label.decode('utf-8')).resize(size)\n",
    "        if augment:\n",
    "            return self._augment_image(img_pil, mask_pil)\n",
    "        else:\n",
    "            return self._pil_to_np(img, mask)\n",
    "    \n",
    "    def _augment_image(self, image_pil, mask_pil):\n",
    "        ## start with affine transform since it works on pil images\n",
    "        angle = random.randint(-30, 30)\n",
    "        translate =(random.randint(-50, 50), random.randint(-50, 50))\n",
    "        scale = 0.9 + random.random()*0.2\n",
    "        shear = random.randint(-6, 6)\n",
    "        img_trf = TF.affine(image_pil, angle, translate, scale, shear, resample=0, fillcolor=None)\n",
    "        mask_trf = TF.affine(mask_pil, angle, translate, scale, shear, resample=0, fillcolor=None)\n",
    "        ## convert images to np\n",
    "        img_trf, mask_trf = self._pil_to_np(img_trf, mask_trf)\n",
    "        ## perform elastic transforms - adds channel dimension to mask_trf\n",
    "        alpha = random.randint(0,700)\n",
    "        sigma = 5.75 + random.random()*1.25\n",
    "        img_trf, mask_trf = elastic_transform_git_mod(img_trf, mask_trf[..., None], alpha, sigma)\n",
    "        ## brightness adjustments - converts img_trf to tensor\n",
    "        img_trf = tf.image.random_brightness(img_trf, max_delta=0.15)\n",
    "        ## contrast adjustments\n",
    "        img_trf = tf.image.random_contrast(img_trf, lower = 0.15, upper = 1.5)\n",
    "        return img_trf, mask_trf\n",
    "        \n",
    "    def _pil_to_np(self, img_pil, mask_pil):\n",
    "        img  = np.array(img_pil).astype(\"float32\")/255.\n",
    "        mask = np.array(mask_pil)\n",
    "        return np.expand_dims(img, axis=-1), mask\n",
    "    \n",
    "    def _preprocess(self, datapoint, augment, size):\n",
    "        [img, mask] = tf.py_function(self._extract_image, [datapoint[\"images\"], datapoint[\"labels\"]], [tf.float32, tf.int8])\n",
    "        return img, mask\n",
    "        \n",
    "    def train_input_fn(self, size, batch_size):\n",
    "        self._train_paths_ds.map(lambda datapoint: self._preprocess(datapoint, augment=True, size=size), num_parallel_calls=AUTOTUNE)\n",
    "        return self._train_paths_ds.batch(batch_size).repeat().shuffle(4000).prefetch(AUTOTUNE)"
   ]
  },
  {
   "cell_type": "code",
   "execution_count": null,
   "metadata": {},
   "outputs": [],
   "source": [
    "input_pipeline = ImageInputPipeline(folder_maps, \".tif\", base_dir)"
   ]
  },
  {
   "cell_type": "code",
   "execution_count": null,
   "metadata": {},
   "outputs": [],
   "source": [
    "for image, label in input_pipeline.train_input_fn(size=(556,556), batch_size=4).take(1):\n",
    "    print(\"Image shape: \", image)\n",
    "    print(\"Label: \", label)"
   ]
  },
  {
   "cell_type": "markdown",
   "metadata": {},
   "source": [
    "# tf Dataset trials"
   ]
  },
  {
   "cell_type": "markdown",
   "metadata": {},
   "source": [
    "### Make lists of image and label paths"
   ]
  },
  {
   "cell_type": "code",
   "execution_count": 1,
   "metadata": {},
   "outputs": [],
   "source": [
    "import os\n",
    "dir_imgs = \"../../data/train\"\n",
    "dir_labels = \"../../data/label\"\n",
    "assert(os.path.isdir(dir_imgs))\n",
    "assert(os.path.isdir(dir_labels))"
   ]
  },
  {
   "cell_type": "code",
   "execution_count": 2,
   "metadata": {},
   "outputs": [
    {
     "name": "stdout",
     "output_type": "stream",
     "text": [
      "['../../data/train\\\\10.tif', '../../data/train\\\\12.tif', '../../data/train\\\\14.tif', '../../data/train\\\\15.tif', '../../data/train\\\\16.tif', '../../data/train\\\\17.tif', '../../data/train\\\\18.tif', '../../data/train\\\\2.tif', '../../data/train\\\\20.tif']\n",
      "['../../data/label\\\\10.tif', '../../data/label\\\\12.tif', '../../data/label\\\\14.tif', '../../data/label\\\\15.tif', '../../data/label\\\\16.tif', '../../data/label\\\\17.tif', '../../data/label\\\\18.tif', '../../data/label\\\\2.tif', '../../data/label\\\\20.tif']\n"
     ]
    }
   ],
   "source": [
    "import glob\n",
    "img_paths = sorted(glob.glob(dir_imgs + \"/*.tif\"))\n",
    "label_paths = sorted(glob.glob(dir_labels + \"/*.tif\"))\n",
    "assert(len(img_paths) ==len(label_paths))\n",
    "print(img_paths[1:10])\n",
    "print(label_paths[1:10])\n",
    "\n",
    "train_size = (556,556)"
   ]
  },
  {
   "cell_type": "code",
   "execution_count": 117,
   "metadata": {},
   "outputs": [],
   "source": [
    "import tensorflow as tf\n",
    "tf.enable_eager_execution()\n",
    "AUTOTUNE = tf.data.experimental.AUTOTUNE\n",
    "assert(tf.executing_eagerly())"
   ]
  },
  {
   "cell_type": "code",
   "execution_count": 122,
   "metadata": {},
   "outputs": [
    {
     "data": {
      "text/plain": [
       "[('../../data/train\\\\1.tif', '../../data/label\\\\1.tif'),\n",
       " ('../../data/train\\\\10.tif', '../../data/label\\\\10.tif'),\n",
       " ('../../data/train\\\\12.tif', '../../data/label\\\\12.tif'),\n",
       " ('../../data/train\\\\14.tif', '../../data/label\\\\14.tif'),\n",
       " ('../../data/train\\\\15.tif', '../../data/label\\\\15.tif'),\n",
       " ('../../data/train\\\\16.tif', '../../data/label\\\\16.tif'),\n",
       " ('../../data/train\\\\17.tif', '../../data/label\\\\17.tif'),\n",
       " ('../../data/train\\\\18.tif', '../../data/label\\\\18.tif'),\n",
       " ('../../data/train\\\\2.tif', '../../data/label\\\\2.tif'),\n",
       " ('../../data/train\\\\20.tif', '../../data/label\\\\20.tif'),\n",
       " ('../../data/train\\\\21.tif', '../../data/label\\\\21.tif'),\n",
       " ('../../data/train\\\\25.tif', '../../data/label\\\\25.tif'),\n",
       " ('../../data/train\\\\27.tif', '../../data/label\\\\27.tif'),\n",
       " ('../../data/train\\\\29.tif', '../../data/label\\\\29.tif'),\n",
       " ('../../data/train\\\\3.tif', '../../data/label\\\\3.tif'),\n",
       " ('../../data/train\\\\30.tif', '../../data/label\\\\30.tif'),\n",
       " ('../../data/train\\\\31.tif', '../../data/label\\\\31.tif'),\n",
       " ('../../data/train\\\\32.tif', '../../data/label\\\\32.tif'),\n",
       " ('../../data/train\\\\33.tif', '../../data/label\\\\33.tif'),\n",
       " ('../../data/train\\\\34.tif', '../../data/label\\\\34.tif'),\n",
       " ('../../data/train\\\\35.tif', '../../data/label\\\\35.tif'),\n",
       " ('../../data/train\\\\36.tif', '../../data/label\\\\36.tif'),\n",
       " ('../../data/train\\\\38.tif', '../../data/label\\\\38.tif'),\n",
       " ('../../data/train\\\\40.tif', '../../data/label\\\\40.tif'),\n",
       " ('../../data/train\\\\41.tif', '../../data/label\\\\41.tif'),\n",
       " ('../../data/train\\\\42.tif', '../../data/label\\\\42.tif'),\n",
       " ('../../data/train\\\\43.tif', '../../data/label\\\\43.tif'),\n",
       " ('../../data/train\\\\44.tif', '../../data/label\\\\44.tif'),\n",
       " ('../../data/train\\\\46.tif', '../../data/label\\\\46.tif'),\n",
       " ('../../data/train\\\\48.tif', '../../data/label\\\\48.tif'),\n",
       " ('../../data/train\\\\49.tif', '../../data/label\\\\49.tif'),\n",
       " ('../../data/train\\\\5.tif', '../../data/label\\\\5.tif'),\n",
       " ('../../data/train\\\\50.tif', '../../data/label\\\\50.tif'),\n",
       " ('../../data/train\\\\6.tif', '../../data/label\\\\6.tif'),\n",
       " ('../../data/train\\\\7.tif', '../../data/label\\\\7.tif'),\n",
       " ('../../data/train\\\\9.tif', '../../data/label\\\\9.tif')]"
      ]
     },
     "execution_count": 122,
     "metadata": {},
     "output_type": "execute_result"
    }
   ],
   "source": [
    "list(zip(img_paths, label_paths))"
   ]
  },
  {
   "cell_type": "code",
   "execution_count": 125,
   "metadata": {},
   "outputs": [
    {
     "name": "stdout",
     "output_type": "stream",
     "text": [
      "b'../../data/train\\\\1.tif' b'../../data/label\\\\1.tif'\n"
     ]
    }
   ],
   "source": [
    "ds = tf.data.Dataset.from_tensor_slices(list(zip(img_paths, label_paths)))\n",
    "for img, mask in ds.take(1):\n",
    "    print(img.numpy(), mask.numpy())"
   ]
  },
  {
   "cell_type": "code",
   "execution_count": 152,
   "metadata": {},
   "outputs": [],
   "source": [
    "def load_img(img, mask):\n",
    "    img_pil = Image.open(img.numpy())\n",
    "    mask_pil = Image.open(mask.numpy())\n",
    "    return pil_to_np(img_pil, mask_pil)\n",
    "\n",
    "def pil_to_np(img_pil, mask_pil):\n",
    "    img  = np.array(img_pil).astype(\"float32\")/255.\n",
    "    mask = np.array(mask_pil)\n",
    "    return img, mask"
   ]
  },
  {
   "cell_type": "code",
   "execution_count": 153,
   "metadata": {},
   "outputs": [],
   "source": [
    "def tf_load_images_ds(datapoint):\n",
    "    img = datapoint[0]\n",
    "    mask = datapoint[1]\n",
    "    [img, mask] = tf.py_function(load_img, [img, mask], [tf.float32, tf.uint8])\n",
    "    return img, mask"
   ]
  },
  {
   "cell_type": "code",
   "execution_count": 154,
   "metadata": {},
   "outputs": [
    {
     "name": "stdout",
     "output_type": "stream",
     "text": [
      "(1113, 1113)\n",
      "(1113, 1113)\n"
     ]
    },
    {
     "data": {
      "image/png": "[encoded data removed]",
      "text/plain": [
       "<Figure size 432x288 with 1 Axes>"
      ]
     },
     "metadata": {
      "needs_background": "light"
     },
     "output_type": "display_data"
    }
   ],
   "source": [
    "load_ds = ds.map(tf_load_images_ds)\n",
    "for img, mask in load_ds.take(1):\n",
    "    print(img.shape)\n",
    "    print(mask.shape)\n",
    "    plt.imshow(img, cmap=\"gray\")\n",
    "    plt.imshow(mask, alpha=0.3)"
   ]
  },
  {
   "cell_type": "code",
   "execution_count": null,
   "metadata": {},
   "outputs": [],
   "source": []
  },
  {
   "cell_type": "code",
   "execution_count": null,
   "metadata": {},
   "outputs": [],
   "source": []
  }
 ],
 "metadata": {
  "kernelspec": {
   "display_name": "Python [conda env:tf1.5]",
   "language": "python",
   "name": "conda-env-tf1.5-py"
  },
  "language_info": {
   "codemirror_mode": {
    "name": "ipython",
    "version": 3
   },
   "file_extension": ".py",
   "mimetype": "text/x-python",
   "name": "python",
   "nbconvert_exporter": "python",
   "pygments_lexer": "ipython3",
   "version": "3.7.3"
  }
 },
 "nbformat": 4,
 "nbformat_minor": 4
}
