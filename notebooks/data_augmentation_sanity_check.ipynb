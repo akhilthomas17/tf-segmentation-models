{
 "cells": [
  {
   "cell_type": "markdown",
   "metadata": {},
   "source": [
    "### Make lists of image and label paths"
   ]
  },
  {
   "cell_type": "code",
   "execution_count": 2,
   "metadata": {},
   "outputs": [],
   "source": [
    "import os\n",
    "dir_imgs = \"/mnt/sda/deep_learning/CSE527_FinalProject-master/images/train\"\n",
    "dir_labels = \"/mnt/sda/deep_learning/CSE527_FinalProject-master/images/label\"\n",
    "assert(os.path.isdir(dir_imgs))\n",
    "assert(os.path.isdir(dir_labels))"
   ]
  },
  {
   "cell_type": "code",
   "execution_count": 3,
   "metadata": {},
   "outputs": [
    {
     "name": "stdout",
     "output_type": "stream",
     "text": [
      "['/mnt/sda/deep_learning/CSE527_FinalProject-master/images/train/10.tif', '/mnt/sda/deep_learning/CSE527_FinalProject-master/images/train/100.tif', '/mnt/sda/deep_learning/CSE527_FinalProject-master/images/train/1000.tif', '/mnt/sda/deep_learning/CSE527_FinalProject-master/images/train/1001.tif', '/mnt/sda/deep_learning/CSE527_FinalProject-master/images/train/1002.tif', '/mnt/sda/deep_learning/CSE527_FinalProject-master/images/train/1003.tif', '/mnt/sda/deep_learning/CSE527_FinalProject-master/images/train/1005.tif', '/mnt/sda/deep_learning/CSE527_FinalProject-master/images/train/1006.tif', '/mnt/sda/deep_learning/CSE527_FinalProject-master/images/train/1008.tif']\n",
      "['/mnt/sda/deep_learning/CSE527_FinalProject-master/images/label/10.tif', '/mnt/sda/deep_learning/CSE527_FinalProject-master/images/label/100.tif', '/mnt/sda/deep_learning/CSE527_FinalProject-master/images/label/1000.tif', '/mnt/sda/deep_learning/CSE527_FinalProject-master/images/label/1001.tif', '/mnt/sda/deep_learning/CSE527_FinalProject-master/images/label/1002.tif', '/mnt/sda/deep_learning/CSE527_FinalProject-master/images/label/1003.tif', '/mnt/sda/deep_learning/CSE527_FinalProject-master/images/label/1005.tif', '/mnt/sda/deep_learning/CSE527_FinalProject-master/images/label/1006.tif', '/mnt/sda/deep_learning/CSE527_FinalProject-master/images/label/1008.tif']\n"
     ]
    }
   ],
   "source": [
    "import glob\n",
    "img_paths = sorted(glob.glob(dir_imgs + \"/*.tif\"))\n",
    "label_paths = sorted(glob.glob(dir_labels + \"/*.tif\"))\n",
    "assert(len(img_paths) ==len(label_paths))\n",
    "print(img_paths[1:10])\n",
    "print(label_paths[1:10])\n",
    "\n",
    "train_size = (556,556)"
   ]
  },
  {
   "cell_type": "markdown",
   "metadata": {},
   "source": [
    "### Utility functions"
   ]
  },
  {
   "cell_type": "code",
   "execution_count": 4,
   "metadata": {},
   "outputs": [],
   "source": [
    "## load random image and label from list of image and label paths\n",
    "import random\n",
    "from PIL import Image\n",
    "def load_rand_sample(image_paths, label_paths, shape=train_size):\n",
    "    num_samples = len(image_paths)\n",
    "    ii_rand = random.randint(0,num_samples-1)\n",
    "    img_rand = Image.open(image_paths[ii_rand]).resize(shape)\n",
    "    label_rand = Image.open(label_paths[ii_rand]).resize(shape)\n",
    "    return img_rand, label_rand\n",
    "\n",
    "\"\"\" Elastic transform code from https://gist.github.com/erniejunior/601cdf56d2b424757de5\"\"\"\n",
    "from scipy.ndimage.interpolation import map_coordinates\n",
    "from scipy.ndimage.filters import gaussian_filter\n",
    "def elastic_transform_git(image, alpha, sigma, order=0, random_state=None):\n",
    "    \"\"\"Elastic deformation of images as described in [Simard2003]_.\n",
    "    .. [Simard2003] Simard, Steinkraus and Platt, \"Best Practices for\n",
    "       Convolutional Neural Networks applied to Visual Document Analysis\", in\n",
    "       Proc. of the International Conference on Document Analysis and\n",
    "       Recognition, 2003.\n",
    "    \"\"\"\n",
    "    if random_state is None:\n",
    "        random_state = np.random.RandomState(None)\n",
    "\n",
    "    shape = image.shape\n",
    "    dx = gaussian_filter((random_state.rand(*shape) * 2 - 1), sigma, mode=\"constant\", cval=0) * alpha\n",
    "    dy = gaussian_filter((random_state.rand(*shape) * 2 - 1), sigma, mode=\"constant\", cval=0) * alpha\n",
    "\n",
    "    x, y, z = np.meshgrid(np.arange(shape[0]), np.arange(shape[1]), np.arange(shape[2]))\n",
    "    indices = np.reshape(y+dy, (-1, 1)), np.reshape(x+dx, (-1, 1)), np.reshape(z, (-1, 1))\n",
    "\n",
    "    distored_image = map_coordinates(image, indices, order=order, mode='reflect')\n",
    "    return distored_image.reshape(image.shape)\n",
    "\n",
    "\"\"\" Elastic transform code from https://gist.github.com/erniejunior/601cdf56d2b424757de5\"\"\"\n",
    "from scipy.ndimage.interpolation import map_coordinates\n",
    "from scipy.ndimage.filters import gaussian_filter\n",
    "def elastic_transform_git_mod(image, label, alpha, sigma, random_state=None):\n",
    "    \"\"\"Elastic deformation of images as described in [Simard2003]_.\n",
    "    .. [Simard2003] Simard, Steinkraus and Platt, \"Best Practices for\n",
    "       Convolutional Neural Networks applied to Visual Document Analysis\", in\n",
    "       Proc. of the International Conference on Document Analysis and\n",
    "       Recognition, 2003.\n",
    "    \"\"\"\n",
    "    if random_state is None:\n",
    "        random_state = np.random.RandomState(None)\n",
    "\n",
    "    shape = image.shape\n",
    "    dx = gaussian_filter((random_state.rand(*shape) * 2 - 1), sigma, mode=\"constant\", cval=0) * alpha\n",
    "    dy = gaussian_filter((random_state.rand(*shape) * 2 - 1), sigma, mode=\"constant\", cval=0) * alpha\n",
    "\n",
    "    x, y, z = np.meshgrid(np.arange(shape[0]), np.arange(shape[1]), np.arange(shape[2]))\n",
    "    indices = np.reshape(y+dy, (-1, 1)), np.reshape(x+dx, (-1, 1)), np.reshape(z, (-1, 1))\n",
    "    \n",
    "    distored_image = map_coordinates(image, indices, order=1, mode='reflect')\n",
    "    distored_label = map_coordinates(label, indices, order=0, mode='reflect')\n",
    "    return distored_image.reshape(shape), distored_label.reshape(shape)\n",
    "\n",
    "\n",
    "import torchvision.transforms.functional as TF\n",
    "import matplotlib.pyplot as plt\n",
    "from ipywidgets import interact, interactive, fixed, interact_manual\n",
    "import ipywidgets as widgets\n",
    "import numpy as np"
   ]
  },
  {
   "cell_type": "markdown",
   "metadata": {},
   "source": [
    "### Test brightness parameter"
   ]
  },
  {
   "cell_type": "code",
   "execution_count": 5,
   "metadata": {},
   "outputs": [
    {
     "data": {
      "application/vnd.jupyter.widget-view+json": {
       "model_id": "f1aa0eb44df64aa0b6a8b85a119e84e6",
       "version_major": 2,
       "version_minor": 0
      },
      "text/plain": [
       "interactive(children=(FloatSlider(value=1.0, description='brightness_factor', max=2.0, step=0.05), Output()), …"
      ]
     },
     "metadata": {},
     "output_type": "display_data"
    },
    {
     "data": {
      "text/plain": [
       "<function __main__.adjust_brightness(img, brightness_factor)>"
      ]
     },
     "execution_count": 5,
     "metadata": {},
     "output_type": "execute_result"
    }
   ],
   "source": [
    "img, _ = load_rand_sample(img_paths, label_paths)\n",
    "def adjust_brightness(img, brightness_factor):\n",
    "    img_adj = TF.adjust_brightness(img, brightness_factor)\n",
    "    plt.figure(figsize=(25,25))\n",
    "    plt.subplot(121)\n",
    "    plt.imshow(img, cmap=\"gray\", vmin=0, vmax=255)\n",
    "    plt.subplot(122)\n",
    "    plt.imshow(img_adj, cmap=\"gray\", vmin=0, vmax=255)\n",
    "    print(\"sum img:\", np.array(img).sum())\n",
    "    print(\"sum img_adj:\", np.array(img_adj).sum())\n",
    "interact(adjust_brightness, img=fixed(img), brightness_factor=(0., 2., 0.05))"
   ]
  },
  {
   "cell_type": "markdown",
   "metadata": {},
   "source": [
    "### Test contrast parameter"
   ]
  },
  {
   "cell_type": "code",
   "execution_count": 6,
   "metadata": {},
   "outputs": [
    {
     "data": {
      "application/vnd.jupyter.widget-view+json": {
       "model_id": "9829de7d36c2456e8fe4d97f98bf8f56",
       "version_major": 2,
       "version_minor": 0
      },
      "text/plain": [
       "interactive(children=(FloatSlider(value=1.0, description='contrast_factor', max=2.0, step=0.05), Output()), _d…"
      ]
     },
     "metadata": {},
     "output_type": "display_data"
    },
    {
     "data": {
      "text/plain": [
       "<function __main__.adjust_contrast(img, contrast_factor)>"
      ]
     },
     "execution_count": 6,
     "metadata": {},
     "output_type": "execute_result"
    }
   ],
   "source": [
    "img, _ = load_rand_sample(img_paths, label_paths)\n",
    "def adjust_contrast(img, contrast_factor):\n",
    "    img_adj = TF.adjust_contrast(img, contrast_factor)\n",
    "    plt.figure(figsize=(25,25))\n",
    "    plt.subplot(121)\n",
    "    plt.imshow(img, cmap=\"gray\", vmin=0, vmax=255)\n",
    "    plt.subplot(122)\n",
    "    plt.imshow(img_adj, cmap=\"gray\", vmin=0, vmax=255)\n",
    "interact(adjust_contrast, img=fixed(img), contrast_factor=(0., 2., 0.05))"
   ]
  },
  {
   "cell_type": "markdown",
   "metadata": {},
   "source": [
    "### Test affine transformation parameters"
   ]
  },
  {
   "cell_type": "code",
   "execution_count": 13,
   "metadata": {},
   "outputs": [
    {
     "data": {
      "application/vnd.jupyter.widget-view+json": {
       "model_id": "82b869dfa7954f7a8b7ab763109f3adf",
       "version_major": 2,
       "version_minor": 0
      },
      "text/plain": [
       "interactive(children=(IntSlider(value=0, description='angle', max=30, min=-30), IntSlider(value=0, description…"
      ]
     },
     "metadata": {},
     "output_type": "display_data"
    },
    {
     "data": {
      "text/plain": [
       "<function __main__.affine_transform(img, label, angle, translate_x, translate_y, scale, shear)>"
      ]
     },
     "execution_count": 13,
     "metadata": {},
     "output_type": "execute_result"
    }
   ],
   "source": [
    "img, label = load_rand_sample(img_paths, label_paths)\n",
    "def affine_transform(img, label, angle, translate_x, translate_y, scale, shear):\n",
    "    img_trf = TF.affine(img, angle, (translate_x, translate_y), scale, shear, resample=0, fillcolor=None)\n",
    "    label_trf = TF.affine(label, angle, (translate_x, translate_y), scale, shear, resample=0, fillcolor=None)\n",
    "    plt.figure(figsize=(25,25))\n",
    "    plt.subplot(121)\n",
    "    plt.imshow(img_trf, cmap=\"gray\", vmin=0, vmax=255)\n",
    "    plt.subplot(122)\n",
    "    plt.imshow(label_trf, cmap=\"gray\")\n",
    "interact(affine_transform, img=fixed(img), label=fixed(label), angle=(-30,30,1), translate_x=(-100,100,1), translate_y=(-100,100,1), scale=(0.9,1.1,0.05), shear=(-6,6,0.05))"
   ]
  },
  {
   "cell_type": "code",
   "execution_count": 8,
   "metadata": {},
   "outputs": [],
   "source": [
    "angle=30\n",
    "translate = (50, 50)\n",
    "scale = 1.5\n",
    "shear = 6"
   ]
  },
  {
   "cell_type": "code",
   "execution_count": 14,
   "metadata": {},
   "outputs": [
    {
     "name": "stdout",
     "output_type": "stream",
     "text": [
      "613 µs ± 294 ns per loop (mean ± std. dev. of 7 runs, 1000 loops each)\n"
     ]
    }
   ],
   "source": [
    "%%timeit\n",
    "img_trf = TF.affine(img, angle, translate, scale, shear, resample=0, fillcolor=None)\n",
    "label_trf = TF.affine(label, angle, translate, scale, shear, resample=0, fillcolor=None)"
   ]
  },
  {
   "cell_type": "markdown",
   "metadata": {},
   "source": [
    "### Test elastic transform parameters"
   ]
  },
  {
   "cell_type": "code",
   "execution_count": 31,
   "metadata": {},
   "outputs": [
    {
     "data": {
      "application/vnd.jupyter.widget-view+json": {
       "model_id": "f19e1b4186014591b0a0e904c1f12a97",
       "version_major": 2,
       "version_minor": 0
      },
      "text/plain": [
       "interactive(children=(IntSlider(value=500, description='alpha', max=1000), FloatSlider(value=5.0, description=…"
      ]
     },
     "metadata": {},
     "output_type": "display_data"
    },
    {
     "data": {
      "text/plain": [
       "<function __main__.elastic_transform(img, label, alpha, sigma)>"
      ]
     },
     "execution_count": 31,
     "metadata": {},
     "output_type": "execute_result"
    }
   ],
   "source": [
    "img, label = load_rand_sample(img_paths, label_paths)\n",
    "def elastic_transform(img, label, alpha, sigma):\n",
    "    img_trf = elastic_transform_git(np.array(img)[:,:,np.newaxis], alpha, sigma)[:,:,0]\n",
    "    #label_trf = elastic_transform_git(label, alpha, sigma)\n",
    "    plt.figure(figsize=(25,25))\n",
    "    plt.subplot(121)\n",
    "    plt.imshow(img, cmap=\"gray\", vmin=0, vmax=255)\n",
    "    plt.subplot(122)\n",
    "    plt.imshow(img_trf, cmap=\"gray\", vmin=0, vmax=255)\n",
    "interact(elastic_transform, img=fixed(img), label=fixed(label), alpha=(0,1000,1), sigma=(4,7,0.01))"
   ]
  },
  {
   "cell_type": "code",
   "execution_count": 16,
   "metadata": {},
   "outputs": [
    {
     "data": {
      "application/vnd.jupyter.widget-view+json": {
       "model_id": "072f398d7d2d4482aa4242603dd1b612",
       "version_major": 2,
       "version_minor": 0
      },
      "text/plain": [
       "interactive(children=(IntSlider(value=700, description='alpha', max=1400), FloatSlider(value=5.75, description…"
      ]
     },
     "metadata": {},
     "output_type": "display_data"
    },
    {
     "data": {
      "text/plain": [
       "<function __main__.elastic_transform(img, label, alpha, sigma)>"
      ]
     },
     "execution_count": 16,
     "metadata": {},
     "output_type": "execute_result"
    }
   ],
   "source": [
    "img, label = load_rand_sample(img_paths, label_paths)\n",
    "def elastic_transform(img, label, alpha, sigma):\n",
    "    img_trf_0 = elastic_transform_git(np.array(img)[:,:,np.newaxis], alpha, sigma)[:,:,0]\n",
    "    img_trf_1 = elastic_transform_git(np.array(img)[:,:,np.newaxis], alpha, sigma, order=1)[:,:,0]\n",
    "    #label_trf = elastic_transform_git(label, alpha, sigma)\n",
    "    plt.figure(figsize=(35,35))\n",
    "    plt.subplot(131)\n",
    "    plt.imshow(img_trf_0, cmap=\"gray\", vmin=0, vmax=255)\n",
    "    plt.subplot(132)\n",
    "    plt.imshow(img, cmap=\"gray\", vmin=0, vmax=255)\n",
    "    plt.subplot(133)\n",
    "    plt.imshow(img_trf_1, cmap=\"gray\", vmin=0, vmax=255)\n",
    "interact(elastic_transform, img=fixed(img), label=fixed(label), alpha=(0,1400,1), sigma=(5,6.5,0.01))"
   ]
  },
  {
   "cell_type": "code",
   "execution_count": 84,
   "metadata": {},
   "outputs": [],
   "source": [
    "checkerboard = np.zeros((1133, 1133), dtype = int) \n",
    "# fill with 1 the alternate rows and columns \n",
    "checkerboard[1::2, ::5] = 1\n",
    "checkerboard[::5, 1::2] = 1"
   ]
  },
  {
   "cell_type": "code",
   "execution_count": 88,
   "metadata": {},
   "outputs": [],
   "source": [
    "checkerboard = Image.open(\"checkerboard.png\")"
   ]
  },
  {
   "cell_type": "code",
   "execution_count": 97,
   "metadata": {},
   "outputs": [],
   "source": [
    "checkerboard = np.array(checkerboard)[:, 3:-1]"
   ]
  },
  {
   "cell_type": "code",
   "execution_count": 60,
   "metadata": {},
   "outputs": [
    {
     "name": "stdout",
     "output_type": "stream",
     "text": [
      "53.8 ms ± 168 µs per loop (mean ± std. dev. of 7 runs, 10 loops each)\n"
     ]
    }
   ],
   "source": [
    "%%timeit\n",
    "alpha = 700\n",
    "sigma = 5.75\n",
    "img_trf_0 = elastic_transform_git(np.array(img)[:,:,np.newaxis], alpha, sigma)[:,:,0]"
   ]
  },
  {
   "cell_type": "code",
   "execution_count": 59,
   "metadata": {},
   "outputs": [
    {
     "name": "stdout",
     "output_type": "stream",
     "text": [
      "68.3 ms ± 334 µs per loop (mean ± std. dev. of 7 runs, 10 loops each)\n"
     ]
    }
   ],
   "source": [
    "%%timeit\n",
    "alpha = 700\n",
    "sigma = 5.75\n",
    "img_trf_0 = elastic_transform_git(np.array(img)[:,:,np.newaxis], alpha, sigma, order=1)[:,:,0]"
   ]
  },
  {
   "cell_type": "code",
   "execution_count": 58,
   "metadata": {},
   "outputs": [
    {
     "name": "stdout",
     "output_type": "stream",
     "text": [
      "119 ms ± 348 µs per loop (mean ± std. dev. of 7 runs, 10 loops each)\n"
     ]
    }
   ],
   "source": [
    "%%timeit\n",
    "comb_img = np.concatenate((np.array(img)[..., None], np.array(label)[..., None]), axis=2)\n",
    "img_trf_0 = elastic_transform_git(comb_img, alpha, sigma, order=1)[:,:,0]"
   ]
  },
  {
   "cell_type": "code",
   "execution_count": 57,
   "metadata": {},
   "outputs": [
    {
     "name": "stdout",
     "output_type": "stream",
     "text": [
      "96.2 ms ± 167 µs per loop (mean ± std. dev. of 7 runs, 10 loops each)\n"
     ]
    }
   ],
   "source": [
    "%%timeit\n",
    "comb_img = np.concatenate((np.array(img)[..., None], np.array(label)[..., None]), axis=2)\n",
    "img_trf_0 = elastic_transform_git(comb_img, alpha, sigma, order=0)\n",
    "img_1 = comb_img[..., 0]\n",
    "label_1 = comb_img[..., 1]"
   ]
  },
  {
   "cell_type": "code",
   "execution_count": 118,
   "metadata": {},
   "outputs": [
    {
     "name": "stdout",
     "output_type": "stream",
     "text": [
      "76.2 ms ± 67.1 µs per loop (mean ± std. dev. of 7 runs, 10 loops each)\n"
     ]
    }
   ],
   "source": [
    "%%timeit\n",
    "img_2, label_2 = elastic_transform_git_mod(np.array(img)[..., None], np.array(label)[..., None], alpha, sigma)"
   ]
  },
  {
   "cell_type": "code",
   "execution_count": 38,
   "metadata": {},
   "outputs": [
    {
     "data": {
      "text/plain": [
       "(556, 556, 2)"
      ]
     },
     "execution_count": 38,
     "metadata": {},
     "output_type": "execute_result"
    }
   ],
   "source": [
    "comb_img = np.concatenate((np.array(img)[..., None], np.array(label)[..., None]), axis=2)\n",
    "comb_img.shape\n"
   ]
  },
  {
   "cell_type": "code",
   "execution_count": 119,
   "metadata": {},
   "outputs": [
    {
     "data": {
      "application/vnd.jupyter.widget-view+json": {
       "model_id": "0dc97bcffbee4cecaa10f712123fb027",
       "version_major": 2,
       "version_minor": 0
      },
      "text/plain": [
       "interactive(children=(IntSlider(value=700, description='alpha', max=1400), FloatSlider(value=5.75, description…"
      ]
     },
     "metadata": {},
     "output_type": "display_data"
    },
    {
     "data": {
      "text/plain": [
       "<function __main__.elastic_transform(img, label, alpha, sigma)>"
      ]
     },
     "execution_count": 119,
     "metadata": {},
     "output_type": "execute_result"
    }
   ],
   "source": [
    "img, label = load_rand_sample(img_paths, label_paths)\n",
    "def elastic_transform(img, label, alpha, sigma):\n",
    "    img_trf, label_trf = elastic_transform_git_mod(np.array(img)[..., None], np.array(label)[..., None], alpha, sigma)\n",
    "    label_trf_rgb = np.concatenate((label_trf==0,label_trf==1,label_trf==2), 2).astype(\"float\")\n",
    "    label = np.array(label)[...,None]\n",
    "    label_rgb = np.concatenate((label==0,label==1,label==2), 2).astype(\"float\")\n",
    "    plt.figure(figsize=(30,15))\n",
    "    plt.subplot(121)\n",
    "    plt.imshow(img_trf[...,0], cmap=\"gray\")\n",
    "    plt.imshow(label_trf_rgb, cmap=\"Greens\", alpha=0.15)\n",
    "    plt.subplot(122)\n",
    "    plt.imshow(np.array(img), cmap=\"gray\")\n",
    "    plt.imshow(label_rgb, cmap=\"Greens\", alpha=0.15)\n",
    "    \n",
    "    \n",
    "interact(elastic_transform, img=fixed(img), label=fixed(label), alpha=(0,1400,1), sigma=(5,6.5,0.01))\n"
   ]
  },
  {
   "cell_type": "code",
   "execution_count": null,
   "metadata": {},
   "outputs": [],
   "source": []
  },
  {
   "cell_type": "code",
   "execution_count": null,
   "metadata": {},
   "outputs": [],
   "source": []
  }
 ],
 "metadata": {
  "kernelspec": {
   "display_name": "Python [conda env:dl_pytorch_env]",
   "language": "python",
   "name": "conda-env-dl_pytorch_env-py"
  },
  "language_info": {
   "codemirror_mode": {
    "name": "ipython",
    "version": 3
   },
   "file_extension": ".py",
   "mimetype": "text/x-python",
   "name": "python",
   "nbconvert_exporter": "python",
   "pygments_lexer": "ipython3",
   "version": "3.7.3"
  }
 },
 "nbformat": 4,
 "nbformat_minor": 4
}
