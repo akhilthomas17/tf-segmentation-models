{
 "cells": [
  {
   "cell_type": "code",
   "execution_count": 1,
   "metadata": {},
   "outputs": [],
   "source": [
    "import os\n",
    "import tensorflow as tf\n",
    "tf.enable_eager_execution()\n",
    "assert(tf.executing_eagerly)\n",
    "import sys\n",
    "sys.path.append(\"../\")\n",
    "from dataset_utils.tf_data_loader import ImageInputPipeline\n",
    "import matplotlib.pyplot as plt\n",
    "import pandas as pd\n",
    "import numpy as np"
   ]
  },
  {
   "cell_type": "markdown",
   "metadata": {},
   "source": [
    "# Analyze Copper dataset"
   ]
  },
  {
   "cell_type": "markdown",
   "metadata": {},
   "source": [
    "## Analyze test dataset"
   ]
  },
  {
   "cell_type": "code",
   "execution_count": 2,
   "metadata": {},
   "outputs": [],
   "source": [
    "base_dir = \"/mnt/sda/deep_learning/defect_segmentation/images_copper\"\n",
    "test_rel_map = {\"images\": \"test\", \"labels\": \"test_label\"}\n",
    "assert(os.path.isdir(base_dir))"
   ]
  },
  {
   "cell_type": "code",
   "execution_count": 3,
   "metadata": {},
   "outputs": [
    {
     "name": "stdout",
     "output_type": "stream",
     "text": [
      "Number of examples in dataset:  357\n"
     ]
    }
   ],
   "source": [
    "test_input_pipeline = ImageInputPipeline(test_rel_map, \".tif\", base_dir, shuffle=False)"
   ]
  },
  {
   "cell_type": "code",
   "execution_count": 4,
   "metadata": {},
   "outputs": [],
   "source": [
    "size = (256, 256)\n",
    "num_pix_img = size[0] * size[1]\n",
    "test_ds = test_input_pipeline._input_fn(size=size, batch_size=1, augment=False)"
   ]
  },
  {
   "cell_type": "code",
   "execution_count": 5,
   "metadata": {},
   "outputs": [
    {
     "name": "stderr",
     "output_type": "stream",
     "text": [
      "WARNING: Logging before flag parsing goes to stderr.\n",
      "W0417 17:10:42.410884 139731811669760 backprop.py:820] The dtype of the watched tensor must be floating (e.g. tf.float32), got tf.string\n",
      "W0417 17:10:42.411256 139730603710208 backprop.py:820] The dtype of the watched tensor must be floating (e.g. tf.float32), got tf.string\n",
      "W0417 17:10:42.411400 139731862025984 backprop.py:820] The dtype of the watched tensor must be floating (e.g. tf.float32), got tf.string\n",
      "W0417 17:10:42.411539 139731954296576 backprop.py:820] The dtype of the watched tensor must be floating (e.g. tf.float32), got tf.string\n",
      "W0417 17:10:42.411645 139730628888320 backprop.py:820] The dtype of the watched tensor must be floating (e.g. tf.float32), got tf.string\n"
     ]
    }
   ],
   "source": [
    "pix_sum_crack = []\n",
    "pix_sum_ext = []\n",
    "for img, mask in test_ds:\n",
    "    pix_sum_crack.append((mask.numpy()==1).sum())\n",
    "    pix_sum_ext.append((mask.numpy()==2).sum())"
   ]
  },
  {
   "cell_type": "code",
   "execution_count": 6,
   "metadata": {},
   "outputs": [
    {
     "data": {
      "text/html": [
       "<div>\n",
       "<style scoped>\n",
       "    .dataframe tbody tr th:only-of-type {\n",
       "        vertical-align: middle;\n",
       "    }\n",
       "\n",
       "    .dataframe tbody tr th {\n",
       "        vertical-align: top;\n",
       "    }\n",
       "\n",
       "    .dataframe thead th {\n",
       "        text-align: right;\n",
       "    }\n",
       "</style>\n",
       "<table border=\"1\" class=\"dataframe\">\n",
       "  <thead>\n",
       "    <tr style=\"text-align: right;\">\n",
       "      <th></th>\n",
       "      <th>#pix_crack</th>\n",
       "      <th>#pix_ext</th>\n",
       "    </tr>\n",
       "  </thead>\n",
       "  <tbody>\n",
       "    <tr>\n",
       "      <th>0</th>\n",
       "      <td>NaN</td>\n",
       "      <td>NaN</td>\n",
       "    </tr>\n",
       "    <tr>\n",
       "      <th>1</th>\n",
       "      <td>NaN</td>\n",
       "      <td>367.0</td>\n",
       "    </tr>\n",
       "    <tr>\n",
       "      <th>2</th>\n",
       "      <td>NaN</td>\n",
       "      <td>5067.0</td>\n",
       "    </tr>\n",
       "    <tr>\n",
       "      <th>3</th>\n",
       "      <td>NaN</td>\n",
       "      <td>2887.0</td>\n",
       "    </tr>\n",
       "    <tr>\n",
       "      <th>4</th>\n",
       "      <td>NaN</td>\n",
       "      <td>11503.0</td>\n",
       "    </tr>\n",
       "  </tbody>\n",
       "</table>\n",
       "</div>"
      ],
      "text/plain": [
       "   #pix_crack  #pix_ext\n",
       "0         NaN       NaN\n",
       "1         NaN     367.0\n",
       "2         NaN    5067.0\n",
       "3         NaN    2887.0\n",
       "4         NaN   11503.0"
      ]
     },
     "execution_count": 6,
     "metadata": {},
     "output_type": "execute_result"
    }
   ],
   "source": [
    "test_df = pd.DataFrame(zip(pix_sum_crack, pix_sum_ext), columns=(\"#pix_crack\", \"#pix_ext\")).replace(0, np.nan)\n",
    "test_df.head()"
   ]
  },
  {
   "cell_type": "code",
   "execution_count": 7,
   "metadata": {
    "scrolled": true
   },
   "outputs": [
    {
     "data": {
      "text/html": [
       "<div>\n",
       "<style scoped>\n",
       "    .dataframe tbody tr th:only-of-type {\n",
       "        vertical-align: middle;\n",
       "    }\n",
       "\n",
       "    .dataframe tbody tr th {\n",
       "        vertical-align: top;\n",
       "    }\n",
       "\n",
       "    .dataframe thead th {\n",
       "        text-align: right;\n",
       "    }\n",
       "</style>\n",
       "<table border=\"1\" class=\"dataframe\">\n",
       "  <thead>\n",
       "    <tr style=\"text-align: right;\">\n",
       "      <th></th>\n",
       "      <th>#pix_crack</th>\n",
       "      <th>#pix_ext</th>\n",
       "      <th>%pix_crack</th>\n",
       "      <th>%pix_crack_na</th>\n",
       "      <th>%pix_ext</th>\n",
       "      <th>%pix_ext_na</th>\n",
       "    </tr>\n",
       "  </thead>\n",
       "  <tbody>\n",
       "    <tr>\n",
       "      <th>0</th>\n",
       "      <td>NaN</td>\n",
       "      <td>NaN</td>\n",
       "      <td>0.0</td>\n",
       "      <td>NaN</td>\n",
       "      <td>0.000000</td>\n",
       "      <td>NaN</td>\n",
       "    </tr>\n",
       "    <tr>\n",
       "      <th>1</th>\n",
       "      <td>NaN</td>\n",
       "      <td>367.0</td>\n",
       "      <td>0.0</td>\n",
       "      <td>NaN</td>\n",
       "      <td>0.559998</td>\n",
       "      <td>0.559998</td>\n",
       "    </tr>\n",
       "    <tr>\n",
       "      <th>2</th>\n",
       "      <td>NaN</td>\n",
       "      <td>5067.0</td>\n",
       "      <td>0.0</td>\n",
       "      <td>NaN</td>\n",
       "      <td>7.731628</td>\n",
       "      <td>7.731628</td>\n",
       "    </tr>\n",
       "    <tr>\n",
       "      <th>3</th>\n",
       "      <td>NaN</td>\n",
       "      <td>2887.0</td>\n",
       "      <td>0.0</td>\n",
       "      <td>NaN</td>\n",
       "      <td>4.405212</td>\n",
       "      <td>4.405212</td>\n",
       "    </tr>\n",
       "    <tr>\n",
       "      <th>4</th>\n",
       "      <td>NaN</td>\n",
       "      <td>11503.0</td>\n",
       "      <td>0.0</td>\n",
       "      <td>NaN</td>\n",
       "      <td>17.552185</td>\n",
       "      <td>17.552185</td>\n",
       "    </tr>\n",
       "  </tbody>\n",
       "</table>\n",
       "</div>"
      ],
      "text/plain": [
       "   #pix_crack  #pix_ext  %pix_crack  %pix_crack_na   %pix_ext  %pix_ext_na\n",
       "0         NaN       NaN         0.0            NaN   0.000000          NaN\n",
       "1         NaN     367.0         0.0            NaN   0.559998     0.559998\n",
       "2         NaN    5067.0         0.0            NaN   7.731628     7.731628\n",
       "3         NaN    2887.0         0.0            NaN   4.405212     4.405212\n",
       "4         NaN   11503.0         0.0            NaN  17.552185    17.552185"
      ]
     },
     "execution_count": 7,
     "metadata": {},
     "output_type": "execute_result"
    }
   ],
   "source": [
    "test_df[\"%pix_crack\"] = np.where(pd.notna(test_df[\"#pix_crack\"]), 100 * test_df[\"#pix_crack\"]/num_pix_img, 0)\n",
    "test_df[\"%pix_crack_na\"] = 100 * test_df[\"#pix_crack\"]/num_pix_img\n",
    "test_df[\"%pix_ext\"] = np.where(pd.notna(test_df[\"#pix_ext\"]), 100 * test_df[\"#pix_ext\"]/num_pix_img, 0)\n",
    "test_df[\"%pix_ext_na\"] = 100 * test_df[\"#pix_ext\"]/num_pix_img\n",
    "test_df.head()"
   ]
  },
  {
   "cell_type": "markdown",
   "metadata": {},
   "source": [
    "The summary below shows that:\n",
    "\n",
    "- Percentage of pixels with extrusion in the dataset is 12.125%\n",
    "- Out of 357 images, 321 have extrusions in it\n",
    "- If only images with extrusions are considered, then the percentage of pixels with extrusion is 13.485%"
   ]
  },
  {
   "cell_type": "code",
   "execution_count": 8,
   "metadata": {},
   "outputs": [
    {
     "data": {
      "text/html": [
       "<div>\n",
       "<style scoped>\n",
       "    .dataframe tbody tr th:only-of-type {\n",
       "        vertical-align: middle;\n",
       "    }\n",
       "\n",
       "    .dataframe tbody tr th {\n",
       "        vertical-align: top;\n",
       "    }\n",
       "\n",
       "    .dataframe thead th {\n",
       "        text-align: right;\n",
       "    }\n",
       "</style>\n",
       "<table border=\"1\" class=\"dataframe\">\n",
       "  <thead>\n",
       "    <tr style=\"text-align: right;\">\n",
       "      <th></th>\n",
       "      <th>#pix_crack</th>\n",
       "      <th>#pix_ext</th>\n",
       "      <th>%pix_crack</th>\n",
       "      <th>%pix_crack_na</th>\n",
       "      <th>%pix_ext</th>\n",
       "      <th>%pix_ext_na</th>\n",
       "    </tr>\n",
       "  </thead>\n",
       "  <tbody>\n",
       "    <tr>\n",
       "      <th>count</th>\n",
       "      <td>30.000000</td>\n",
       "      <td>321.000000</td>\n",
       "      <td>357.000000</td>\n",
       "      <td>30.000000</td>\n",
       "      <td>357.000000</td>\n",
       "      <td>321.000000</td>\n",
       "    </tr>\n",
       "    <tr>\n",
       "      <th>mean</th>\n",
       "      <td>59.300000</td>\n",
       "      <td>8837.323988</td>\n",
       "      <td>0.007604</td>\n",
       "      <td>0.090485</td>\n",
       "      <td>12.124886</td>\n",
       "      <td>13.484686</td>\n",
       "    </tr>\n",
       "    <tr>\n",
       "      <th>std</th>\n",
       "      <td>62.817277</td>\n",
       "      <td>8388.314917</td>\n",
       "      <td>0.037154</td>\n",
       "      <td>0.095852</td>\n",
       "      <td>12.798256</td>\n",
       "      <td>12.799553</td>\n",
       "    </tr>\n",
       "    <tr>\n",
       "      <th>min</th>\n",
       "      <td>2.000000</td>\n",
       "      <td>3.000000</td>\n",
       "      <td>0.000000</td>\n",
       "      <td>0.003052</td>\n",
       "      <td>0.000000</td>\n",
       "      <td>0.004578</td>\n",
       "    </tr>\n",
       "    <tr>\n",
       "      <th>25%</th>\n",
       "      <td>21.500000</td>\n",
       "      <td>2361.000000</td>\n",
       "      <td>0.000000</td>\n",
       "      <td>0.032806</td>\n",
       "      <td>2.252197</td>\n",
       "      <td>3.602600</td>\n",
       "    </tr>\n",
       "    <tr>\n",
       "      <th>50%</th>\n",
       "      <td>44.500000</td>\n",
       "      <td>6269.000000</td>\n",
       "      <td>0.000000</td>\n",
       "      <td>0.067902</td>\n",
       "      <td>8.149719</td>\n",
       "      <td>9.565735</td>\n",
       "    </tr>\n",
       "    <tr>\n",
       "      <th>75%</th>\n",
       "      <td>70.000000</td>\n",
       "      <td>12660.000000</td>\n",
       "      <td>0.000000</td>\n",
       "      <td>0.106812</td>\n",
       "      <td>18.466187</td>\n",
       "      <td>19.317627</td>\n",
       "    </tr>\n",
       "    <tr>\n",
       "      <th>max</th>\n",
       "      <td>316.000000</td>\n",
       "      <td>41881.000000</td>\n",
       "      <td>0.482178</td>\n",
       "      <td>0.482178</td>\n",
       "      <td>63.905334</td>\n",
       "      <td>63.905334</td>\n",
       "    </tr>\n",
       "  </tbody>\n",
       "</table>\n",
       "</div>"
      ],
      "text/plain": [
       "       #pix_crack      #pix_ext  %pix_crack  %pix_crack_na    %pix_ext  \\\n",
       "count   30.000000    321.000000  357.000000      30.000000  357.000000   \n",
       "mean    59.300000   8837.323988    0.007604       0.090485   12.124886   \n",
       "std     62.817277   8388.314917    0.037154       0.095852   12.798256   \n",
       "min      2.000000      3.000000    0.000000       0.003052    0.000000   \n",
       "25%     21.500000   2361.000000    0.000000       0.032806    2.252197   \n",
       "50%     44.500000   6269.000000    0.000000       0.067902    8.149719   \n",
       "75%     70.000000  12660.000000    0.000000       0.106812   18.466187   \n",
       "max    316.000000  41881.000000    0.482178       0.482178   63.905334   \n",
       "\n",
       "       %pix_ext_na  \n",
       "count   321.000000  \n",
       "mean     13.484686  \n",
       "std      12.799553  \n",
       "min       0.004578  \n",
       "25%       3.602600  \n",
       "50%       9.565735  \n",
       "75%      19.317627  \n",
       "max      63.905334  "
      ]
     },
     "execution_count": 8,
     "metadata": {},
     "output_type": "execute_result"
    }
   ],
   "source": [
    "test_df.describe()"
   ]
  },
  {
   "cell_type": "markdown",
   "metadata": {},
   "source": [
    "The histogram below shows that 80% of the images with extrusions have percentage of extrusion area in the image in the range from 0 to 20.45"
   ]
  },
  {
   "cell_type": "code",
   "execution_count": 9,
   "metadata": {},
   "outputs": [
    {
     "name": "stderr",
     "output_type": "stream",
     "text": [
      "/home/labor/miniconda3/envs/dl_tf_env/lib/python3.7/site-packages/numpy/lib/histograms.py:824: RuntimeWarning: invalid value encountered in greater_equal\n",
      "  keep = (tmp_a >= first_edge)\n",
      "/home/labor/miniconda3/envs/dl_tf_env/lib/python3.7/site-packages/numpy/lib/histograms.py:825: RuntimeWarning: invalid value encountered in less_equal\n",
      "  keep &= (tmp_a <= last_edge)\n"
     ]
    },
    {
     "data": {
      "text/plain": [
       "(array([ 38.,  60.,  85., 106., 124., 134., 152., 170., 183., 188., 199.,\n",
       "        208., 218., 231., 240., 249., 253., 262., 265., 267., 276., 284.,\n",
       "        285., 287., 291., 293., 295., 297., 298., 301., 305., 306., 306.,\n",
       "        307., 309., 310., 312., 313., 315., 315., 315., 317., 318., 318.,\n",
       "        319., 320., 320., 320., 320., 321.]),\n",
       " array([4.57763672e-03, 1.28259277e+00, 2.56060791e+00, 3.83862305e+00,\n",
       "        5.11663818e+00, 6.39465332e+00, 7.67266846e+00, 8.95068359e+00,\n",
       "        1.02286987e+01, 1.15067139e+01, 1.27847290e+01, 1.40627441e+01,\n",
       "        1.53407593e+01, 1.66187744e+01, 1.78967896e+01, 1.91748047e+01,\n",
       "        2.04528198e+01, 2.17308350e+01, 2.30088501e+01, 2.42868652e+01,\n",
       "        2.55648804e+01, 2.68428955e+01, 2.81209106e+01, 2.93989258e+01,\n",
       "        3.06769409e+01, 3.19549561e+01, 3.32329712e+01, 3.45109863e+01,\n",
       "        3.57890015e+01, 3.70670166e+01, 3.83450317e+01, 3.96230469e+01,\n",
       "        4.09010620e+01, 4.21790771e+01, 4.34570923e+01, 4.47351074e+01,\n",
       "        4.60131226e+01, 4.72911377e+01, 4.85691528e+01, 4.98471680e+01,\n",
       "        5.11251831e+01, 5.24031982e+01, 5.36812134e+01, 5.49592285e+01,\n",
       "        5.62372437e+01, 5.75152588e+01, 5.87932739e+01, 6.00712891e+01,\n",
       "        6.13493042e+01, 6.26273193e+01, 6.39053345e+01]),\n",
       " <a list of 50 Patch objects>)"
      ]
     },
     "execution_count": 9,
     "metadata": {},
     "output_type": "execute_result"
    },
    {
     "data": {
      "image/png": "[encoded data removed]",
      "text/plain": [
       "<Figure size 432x288 with 1 Axes>"
      ]
     },
     "metadata": {
      "needs_background": "light"
     },
     "output_type": "display_data"
    }
   ],
   "source": [
    "plt.hist(test_df[\"%pix_ext_na\"], bins=50, cumulative=True)"
   ]
  },
  {
   "cell_type": "markdown",
   "metadata": {},
   "source": [
    "Plotting histogram in the range 0 to 20.45 % image area for extrusions"
   ]
  },
  {
   "cell_type": "code",
   "execution_count": 10,
   "metadata": {},
   "outputs": [
    {
     "data": {
      "text/plain": [
       "(array([15., 16.,  5.,  8.,  6.,  7., 13.,  8.,  4.,  5.,  7.,  9.,  4.,\n",
       "         7.,  4.,  7.,  4.,  4.,  4.,  6.,  2.,  7.,  7.,  7.,  4.,  4.,\n",
       "         5.,  3.,  2.,  2.,  2.,  4.,  3.,  3.,  3.,  4.,  3.,  1.,  2.,\n",
       "         5.,  2.,  2.,  4.,  7.,  0.,  3.,  6.,  3.,  5.,  1.]),\n",
       " array([ 0.   ,  0.409,  0.818,  1.227,  1.636,  2.045,  2.454,  2.863,\n",
       "         3.272,  3.681,  4.09 ,  4.499,  4.908,  5.317,  5.726,  6.135,\n",
       "         6.544,  6.953,  7.362,  7.771,  8.18 ,  8.589,  8.998,  9.407,\n",
       "         9.816, 10.225, 10.634, 11.043, 11.452, 11.861, 12.27 , 12.679,\n",
       "        13.088, 13.497, 13.906, 14.315, 14.724, 15.133, 15.542, 15.951,\n",
       "        16.36 , 16.769, 17.178, 17.587, 17.996, 18.405, 18.814, 19.223,\n",
       "        19.632, 20.041, 20.45 ]),\n",
       " <a list of 50 Patch objects>)"
      ]
     },
     "execution_count": 10,
     "metadata": {},
     "output_type": "execute_result"
    },
    {
     "data": {
      "image/png": "[encoded data removed]",
      "text/plain": [
       "<Figure size 432x288 with 1 Axes>"
      ]
     },
     "metadata": {
      "needs_background": "light"
     },
     "output_type": "display_data"
    }
   ],
   "source": [
    "plt.hist(test_df[\"%pix_ext_na\"], bins=50, cumulative=False, range=(0,20.45))"
   ]
  },
  {
   "cell_type": "markdown",
   "metadata": {},
   "source": [
    "# Select characeristic images"
   ]
  },
  {
   "cell_type": "code",
   "execution_count": 20,
   "metadata": {},
   "outputs": [],
   "source": [
    "import matplotlib.pyplot as plt\n",
    "cnt = 0"
   ]
  },
  {
   "cell_type": "code",
   "execution_count": 28,
   "metadata": {},
   "outputs": [
    {
     "name": "stdout",
     "output_type": "stream",
     "text": [
      "4\n"
     ]
    },
    {
     "data": {
      "image/png": "[encoded data removed]",
      "text/plain": [
       "<Figure size 432x288 with 1 Axes>"
      ]
     },
     "metadata": {
      "needs_background": "light"
     },
     "output_type": "display_data"
    }
   ],
   "source": [
    "for img, mask in test_ds:\n",
    "    if (mask.numpy()==2).sum() > 20000:\n",
    "        plt.imshow(mask.numpy()[0,:,:,0])\n",
    "        print(cnt)\n",
    "        cnt += 1\n",
    "        break"
   ]
  },
  {
   "cell_type": "code",
   "execution_count": null,
   "metadata": {},
   "outputs": [],
   "source": []
  }
 ],
 "metadata": {
  "kernelspec": {
   "display_name": "Python [conda env:dl_tf_env]",
   "language": "python",
   "name": "conda-env-dl_tf_env-py"
  },
  "language_info": {
   "codemirror_mode": {
    "name": "ipython",
    "version": 3
   },
   "file_extension": ".py",
   "mimetype": "text/x-python",
   "name": "python",
   "nbconvert_exporter": "python",
   "pygments_lexer": "ipython3",
   "version": "3.7.3"
  }
 },
 "nbformat": 4,
 "nbformat_minor": 4
}
